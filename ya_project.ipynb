{
 "cells": [
  {
   "cell_type": "markdown",
   "metadata": {
    "toc": true
   },
   "source": [
    "<h1>Содержание<span class=\"tocSkip\"></span></h1>\n",
    "<div class=\"toc\"><ul class=\"toc-item\"><li><span><a href=\"#Подготовка-данных\" data-toc-modified-id=\"Подготовка-данных-1\"><span class=\"toc-item-num\">1&nbsp;&nbsp;</span>Подготовка данных</a></span></li><li><span><a href=\"#Исследование-задачи\" data-toc-modified-id=\"Исследование-задачи-2\"><span class=\"toc-item-num\">2&nbsp;&nbsp;</span>Исследование задачи</a></span></li><li><span><a href=\"#Борьба-с-дисбалансом\" data-toc-modified-id=\"Борьба-с-дисбалансом-3\"><span class=\"toc-item-num\">3&nbsp;&nbsp;</span>Борьба с дисбалансом</a></span></li><li><span><a href=\"#Тестирование-модели\" data-toc-modified-id=\"Тестирование-модели-4\"><span class=\"toc-item-num\">4&nbsp;&nbsp;</span>Тестирование модели</a></span></li><li><span><a href=\"#Чек-лист-готовности-проекта\" data-toc-modified-id=\"Чек-лист-готовности-проекта-5\"><span class=\"toc-item-num\">5&nbsp;&nbsp;</span>Чек-лист готовности проекта</a></span></li></ul></div>"
   ]
  },
  {
   "cell_type": "markdown",
   "metadata": {},
   "source": [
    "# Отток клиентов"
   ]
  },
  {
   "cell_type": "markdown",
   "metadata": {},
   "source": [
    "Из «Бета-Банка» стали уходить клиенты. Каждый месяц. Немного, но заметно. Банковские маркетологи посчитали: сохранять текущих клиентов дешевле, чем привлекать новых.\n",
    "\n",
    "Нужно спрогнозировать, уйдёт клиент из банка в ближайшее время или нет. Вам предоставлены исторические данные о поведении клиентов и расторжении договоров с банком. \n",
    "\n",
    "Постройте модель с предельно большим значением *F1*-меры. Чтобы сдать проект успешно, нужно довести метрику до 0.59. Проверьте *F1*-меру на тестовой выборке самостоятельно.\n",
    "\n",
    "Дополнительно измеряйте *AUC-ROC*, сравнивайте её значение с *F1*-мерой.\n",
    "\n",
    "Источник данных: [https://www.kaggle.com/barelydedicated/bank-customer-churn-modeling](https://www.kaggle.com/barelydedicated/bank-customer-churn-modeling)"
   ]
  },
  {
   "cell_type": "markdown",
   "metadata": {},
   "source": [
    "## Подготовка данных"
   ]
  },
  {
   "cell_type": "code",
   "execution_count": 1,
   "metadata": {},
   "outputs": [],
   "source": [
    "import pandas as pd\n",
    "pd.options.mode.chained_assignment = None\n",
    "\n",
    "from sklearn.model_selection import train_test_split\n",
    "from sklearn.preprocessing import StandardScaler\n",
    "from sklearn.metrics import f1_score\n",
    "from sklearn.metrics import confusion_matrix\n",
    "from sklearn.utils import shuffle\n",
    "from sklearn.metrics import roc_auc_score\n",
    "\n",
    "from sklearn.tree import DecisionTreeClassifier\n",
    "from sklearn.ensemble import RandomForestClassifier\n",
    "from sklearn.linear_model import LogisticRegression"
   ]
  },
  {
   "cell_type": "code",
   "execution_count": 2,
   "metadata": {},
   "outputs": [
    {
     "data": {
      "text/html": [
       "<div>\n",
       "<style scoped>\n",
       "    .dataframe tbody tr th:only-of-type {\n",
       "        vertical-align: middle;\n",
       "    }\n",
       "\n",
       "    .dataframe tbody tr th {\n",
       "        vertical-align: top;\n",
       "    }\n",
       "\n",
       "    .dataframe thead th {\n",
       "        text-align: right;\n",
       "    }\n",
       "</style>\n",
       "<table border=\"1\" class=\"dataframe\">\n",
       "  <thead>\n",
       "    <tr style=\"text-align: right;\">\n",
       "      <th></th>\n",
       "      <th>CustomerId</th>\n",
       "      <th>Surname</th>\n",
       "      <th>CreditScore</th>\n",
       "      <th>Geography</th>\n",
       "      <th>Gender</th>\n",
       "      <th>Age</th>\n",
       "      <th>Tenure</th>\n",
       "      <th>Balance</th>\n",
       "      <th>NumOfProducts</th>\n",
       "      <th>HasCrCard</th>\n",
       "      <th>IsActiveMember</th>\n",
       "      <th>EstimatedSalary</th>\n",
       "      <th>Exited</th>\n",
       "    </tr>\n",
       "    <tr>\n",
       "      <th>RowNumber</th>\n",
       "      <th></th>\n",
       "      <th></th>\n",
       "      <th></th>\n",
       "      <th></th>\n",
       "      <th></th>\n",
       "      <th></th>\n",
       "      <th></th>\n",
       "      <th></th>\n",
       "      <th></th>\n",
       "      <th></th>\n",
       "      <th></th>\n",
       "      <th></th>\n",
       "      <th></th>\n",
       "    </tr>\n",
       "  </thead>\n",
       "  <tbody>\n",
       "    <tr>\n",
       "      <th>1</th>\n",
       "      <td>15634602</td>\n",
       "      <td>Hargrave</td>\n",
       "      <td>619</td>\n",
       "      <td>France</td>\n",
       "      <td>Female</td>\n",
       "      <td>42</td>\n",
       "      <td>2.0</td>\n",
       "      <td>0.00</td>\n",
       "      <td>1</td>\n",
       "      <td>1</td>\n",
       "      <td>1</td>\n",
       "      <td>101348.88</td>\n",
       "      <td>1</td>\n",
       "    </tr>\n",
       "    <tr>\n",
       "      <th>2</th>\n",
       "      <td>15647311</td>\n",
       "      <td>Hill</td>\n",
       "      <td>608</td>\n",
       "      <td>Spain</td>\n",
       "      <td>Female</td>\n",
       "      <td>41</td>\n",
       "      <td>1.0</td>\n",
       "      <td>83807.86</td>\n",
       "      <td>1</td>\n",
       "      <td>0</td>\n",
       "      <td>1</td>\n",
       "      <td>112542.58</td>\n",
       "      <td>0</td>\n",
       "    </tr>\n",
       "    <tr>\n",
       "      <th>3</th>\n",
       "      <td>15619304</td>\n",
       "      <td>Onio</td>\n",
       "      <td>502</td>\n",
       "      <td>France</td>\n",
       "      <td>Female</td>\n",
       "      <td>42</td>\n",
       "      <td>8.0</td>\n",
       "      <td>159660.80</td>\n",
       "      <td>3</td>\n",
       "      <td>1</td>\n",
       "      <td>0</td>\n",
       "      <td>113931.57</td>\n",
       "      <td>1</td>\n",
       "    </tr>\n",
       "    <tr>\n",
       "      <th>4</th>\n",
       "      <td>15701354</td>\n",
       "      <td>Boni</td>\n",
       "      <td>699</td>\n",
       "      <td>France</td>\n",
       "      <td>Female</td>\n",
       "      <td>39</td>\n",
       "      <td>1.0</td>\n",
       "      <td>0.00</td>\n",
       "      <td>2</td>\n",
       "      <td>0</td>\n",
       "      <td>0</td>\n",
       "      <td>93826.63</td>\n",
       "      <td>0</td>\n",
       "    </tr>\n",
       "    <tr>\n",
       "      <th>5</th>\n",
       "      <td>15737888</td>\n",
       "      <td>Mitchell</td>\n",
       "      <td>850</td>\n",
       "      <td>Spain</td>\n",
       "      <td>Female</td>\n",
       "      <td>43</td>\n",
       "      <td>2.0</td>\n",
       "      <td>125510.82</td>\n",
       "      <td>1</td>\n",
       "      <td>1</td>\n",
       "      <td>1</td>\n",
       "      <td>79084.10</td>\n",
       "      <td>0</td>\n",
       "    </tr>\n",
       "    <tr>\n",
       "      <th>...</th>\n",
       "      <td>...</td>\n",
       "      <td>...</td>\n",
       "      <td>...</td>\n",
       "      <td>...</td>\n",
       "      <td>...</td>\n",
       "      <td>...</td>\n",
       "      <td>...</td>\n",
       "      <td>...</td>\n",
       "      <td>...</td>\n",
       "      <td>...</td>\n",
       "      <td>...</td>\n",
       "      <td>...</td>\n",
       "      <td>...</td>\n",
       "    </tr>\n",
       "    <tr>\n",
       "      <th>9996</th>\n",
       "      <td>15606229</td>\n",
       "      <td>Obijiaku</td>\n",
       "      <td>771</td>\n",
       "      <td>France</td>\n",
       "      <td>Male</td>\n",
       "      <td>39</td>\n",
       "      <td>5.0</td>\n",
       "      <td>0.00</td>\n",
       "      <td>2</td>\n",
       "      <td>1</td>\n",
       "      <td>0</td>\n",
       "      <td>96270.64</td>\n",
       "      <td>0</td>\n",
       "    </tr>\n",
       "    <tr>\n",
       "      <th>9997</th>\n",
       "      <td>15569892</td>\n",
       "      <td>Johnstone</td>\n",
       "      <td>516</td>\n",
       "      <td>France</td>\n",
       "      <td>Male</td>\n",
       "      <td>35</td>\n",
       "      <td>10.0</td>\n",
       "      <td>57369.61</td>\n",
       "      <td>1</td>\n",
       "      <td>1</td>\n",
       "      <td>1</td>\n",
       "      <td>101699.77</td>\n",
       "      <td>0</td>\n",
       "    </tr>\n",
       "    <tr>\n",
       "      <th>9998</th>\n",
       "      <td>15584532</td>\n",
       "      <td>Liu</td>\n",
       "      <td>709</td>\n",
       "      <td>France</td>\n",
       "      <td>Female</td>\n",
       "      <td>36</td>\n",
       "      <td>7.0</td>\n",
       "      <td>0.00</td>\n",
       "      <td>1</td>\n",
       "      <td>0</td>\n",
       "      <td>1</td>\n",
       "      <td>42085.58</td>\n",
       "      <td>1</td>\n",
       "    </tr>\n",
       "    <tr>\n",
       "      <th>9999</th>\n",
       "      <td>15682355</td>\n",
       "      <td>Sabbatini</td>\n",
       "      <td>772</td>\n",
       "      <td>Germany</td>\n",
       "      <td>Male</td>\n",
       "      <td>42</td>\n",
       "      <td>3.0</td>\n",
       "      <td>75075.31</td>\n",
       "      <td>2</td>\n",
       "      <td>1</td>\n",
       "      <td>0</td>\n",
       "      <td>92888.52</td>\n",
       "      <td>1</td>\n",
       "    </tr>\n",
       "    <tr>\n",
       "      <th>10000</th>\n",
       "      <td>15628319</td>\n",
       "      <td>Walker</td>\n",
       "      <td>792</td>\n",
       "      <td>France</td>\n",
       "      <td>Female</td>\n",
       "      <td>28</td>\n",
       "      <td>NaN</td>\n",
       "      <td>130142.79</td>\n",
       "      <td>1</td>\n",
       "      <td>1</td>\n",
       "      <td>0</td>\n",
       "      <td>38190.78</td>\n",
       "      <td>0</td>\n",
       "    </tr>\n",
       "  </tbody>\n",
       "</table>\n",
       "<p>10000 rows × 13 columns</p>\n",
       "</div>"
      ],
      "text/plain": [
       "           CustomerId    Surname  CreditScore Geography  Gender  Age  Tenure  \\\n",
       "RowNumber                                                                      \n",
       "1            15634602   Hargrave          619    France  Female   42     2.0   \n",
       "2            15647311       Hill          608     Spain  Female   41     1.0   \n",
       "3            15619304       Onio          502    France  Female   42     8.0   \n",
       "4            15701354       Boni          699    France  Female   39     1.0   \n",
       "5            15737888   Mitchell          850     Spain  Female   43     2.0   \n",
       "...               ...        ...          ...       ...     ...  ...     ...   \n",
       "9996         15606229   Obijiaku          771    France    Male   39     5.0   \n",
       "9997         15569892  Johnstone          516    France    Male   35    10.0   \n",
       "9998         15584532        Liu          709    France  Female   36     7.0   \n",
       "9999         15682355  Sabbatini          772   Germany    Male   42     3.0   \n",
       "10000        15628319     Walker          792    France  Female   28     NaN   \n",
       "\n",
       "             Balance  NumOfProducts  HasCrCard  IsActiveMember  \\\n",
       "RowNumber                                                        \n",
       "1               0.00              1          1               1   \n",
       "2           83807.86              1          0               1   \n",
       "3          159660.80              3          1               0   \n",
       "4               0.00              2          0               0   \n",
       "5          125510.82              1          1               1   \n",
       "...              ...            ...        ...             ...   \n",
       "9996            0.00              2          1               0   \n",
       "9997        57369.61              1          1               1   \n",
       "9998            0.00              1          0               1   \n",
       "9999        75075.31              2          1               0   \n",
       "10000      130142.79              1          1               0   \n",
       "\n",
       "           EstimatedSalary  Exited  \n",
       "RowNumber                           \n",
       "1                101348.88       1  \n",
       "2                112542.58       0  \n",
       "3                113931.57       1  \n",
       "4                 93826.63       0  \n",
       "5                 79084.10       0  \n",
       "...                    ...     ...  \n",
       "9996              96270.64       0  \n",
       "9997             101699.77       0  \n",
       "9998              42085.58       1  \n",
       "9999              92888.52       1  \n",
       "10000             38190.78       0  \n",
       "\n",
       "[10000 rows x 13 columns]"
      ]
     },
     "execution_count": 2,
     "metadata": {},
     "output_type": "execute_result"
    }
   ],
   "source": [
    "df = pd.read_csv('/datasets/Churn.csv', index_col=0)\n",
    "df"
   ]
  },
  {
   "cell_type": "code",
   "execution_count": 3,
   "metadata": {
    "scrolled": true
   },
   "outputs": [
    {
     "name": "stdout",
     "output_type": "stream",
     "text": [
      "<class 'pandas.core.frame.DataFrame'>\n",
      "Int64Index: 10000 entries, 1 to 10000\n",
      "Data columns (total 13 columns):\n",
      " #   Column           Non-Null Count  Dtype  \n",
      "---  ------           --------------  -----  \n",
      " 0   CustomerId       10000 non-null  int64  \n",
      " 1   Surname          10000 non-null  object \n",
      " 2   CreditScore      10000 non-null  int64  \n",
      " 3   Geography        10000 non-null  object \n",
      " 4   Gender           10000 non-null  object \n",
      " 5   Age              10000 non-null  int64  \n",
      " 6   Tenure           9091 non-null   float64\n",
      " 7   Balance          10000 non-null  float64\n",
      " 8   NumOfProducts    10000 non-null  int64  \n",
      " 9   HasCrCard        10000 non-null  int64  \n",
      " 10  IsActiveMember   10000 non-null  int64  \n",
      " 11  EstimatedSalary  10000 non-null  float64\n",
      " 12  Exited           10000 non-null  int64  \n",
      "dtypes: float64(3), int64(7), object(3)\n",
      "memory usage: 1.1+ MB\n"
     ]
    }
   ],
   "source": [
    "df.info()"
   ]
  },
  {
   "cell_type": "code",
   "execution_count": 4,
   "metadata": {},
   "outputs": [
    {
     "data": {
      "text/plain": [
       "array([ 2.,  1.,  8.,  7.,  4.,  6.,  3., 10.,  5.,  9.,  0., nan])"
      ]
     },
     "execution_count": 4,
     "metadata": {},
     "output_type": "execute_result"
    }
   ],
   "source": [
    "df['Tenure'].unique()"
   ]
  },
  {
   "cell_type": "markdown",
   "metadata": {},
   "source": [
    "В столбце \"Tenure\" наблюдаем пропуски, заполним их медианой, чтобы несильно исказить данные."
   ]
  },
  {
   "cell_type": "code",
   "execution_count": 5,
   "metadata": {},
   "outputs": [
    {
     "name": "stdout",
     "output_type": "stream",
     "text": [
      "<class 'pandas.core.frame.DataFrame'>\n",
      "Int64Index: 10000 entries, 1 to 10000\n",
      "Data columns (total 13 columns):\n",
      " #   Column           Non-Null Count  Dtype  \n",
      "---  ------           --------------  -----  \n",
      " 0   CustomerId       10000 non-null  int64  \n",
      " 1   Surname          10000 non-null  object \n",
      " 2   CreditScore      10000 non-null  int64  \n",
      " 3   Geography        10000 non-null  object \n",
      " 4   Gender           10000 non-null  object \n",
      " 5   Age              10000 non-null  int64  \n",
      " 6   Tenure           10000 non-null  float64\n",
      " 7   Balance          10000 non-null  float64\n",
      " 8   NumOfProducts    10000 non-null  int64  \n",
      " 9   HasCrCard        10000 non-null  int64  \n",
      " 10  IsActiveMember   10000 non-null  int64  \n",
      " 11  EstimatedSalary  10000 non-null  float64\n",
      " 12  Exited           10000 non-null  int64  \n",
      "dtypes: float64(3), int64(7), object(3)\n",
      "memory usage: 1.1+ MB\n"
     ]
    }
   ],
   "source": [
    "df['Tenure'] = df['Tenure'].fillna(df['Tenure'].median())\n",
    "df.info()"
   ]
  },
  {
   "cell_type": "markdown",
   "metadata": {},
   "source": [
    "В данные для обучения не будем брать столбцы \"CustomerId\" и \"Surname\", т.к. связи с целевым признаком они не имеют и поведут к ошибкам в обучении"
   ]
  },
  {
   "cell_type": "code",
   "execution_count": 6,
   "metadata": {},
   "outputs": [
    {
     "data": {
      "text/html": [
       "<div>\n",
       "<style scoped>\n",
       "    .dataframe tbody tr th:only-of-type {\n",
       "        vertical-align: middle;\n",
       "    }\n",
       "\n",
       "    .dataframe tbody tr th {\n",
       "        vertical-align: top;\n",
       "    }\n",
       "\n",
       "    .dataframe thead th {\n",
       "        text-align: right;\n",
       "    }\n",
       "</style>\n",
       "<table border=\"1\" class=\"dataframe\">\n",
       "  <thead>\n",
       "    <tr style=\"text-align: right;\">\n",
       "      <th></th>\n",
       "      <th>CreditScore</th>\n",
       "      <th>Age</th>\n",
       "      <th>Tenure</th>\n",
       "      <th>Balance</th>\n",
       "      <th>NumOfProducts</th>\n",
       "      <th>HasCrCard</th>\n",
       "      <th>IsActiveMember</th>\n",
       "      <th>EstimatedSalary</th>\n",
       "      <th>Exited</th>\n",
       "      <th>Geography_Germany</th>\n",
       "      <th>Geography_Spain</th>\n",
       "      <th>Gender_Male</th>\n",
       "    </tr>\n",
       "    <tr>\n",
       "      <th>RowNumber</th>\n",
       "      <th></th>\n",
       "      <th></th>\n",
       "      <th></th>\n",
       "      <th></th>\n",
       "      <th></th>\n",
       "      <th></th>\n",
       "      <th></th>\n",
       "      <th></th>\n",
       "      <th></th>\n",
       "      <th></th>\n",
       "      <th></th>\n",
       "      <th></th>\n",
       "    </tr>\n",
       "  </thead>\n",
       "  <tbody>\n",
       "    <tr>\n",
       "      <th>1</th>\n",
       "      <td>619</td>\n",
       "      <td>42</td>\n",
       "      <td>2.0</td>\n",
       "      <td>0.00</td>\n",
       "      <td>1</td>\n",
       "      <td>1</td>\n",
       "      <td>1</td>\n",
       "      <td>101348.88</td>\n",
       "      <td>1</td>\n",
       "      <td>0</td>\n",
       "      <td>0</td>\n",
       "      <td>0</td>\n",
       "    </tr>\n",
       "    <tr>\n",
       "      <th>2</th>\n",
       "      <td>608</td>\n",
       "      <td>41</td>\n",
       "      <td>1.0</td>\n",
       "      <td>83807.86</td>\n",
       "      <td>1</td>\n",
       "      <td>0</td>\n",
       "      <td>1</td>\n",
       "      <td>112542.58</td>\n",
       "      <td>0</td>\n",
       "      <td>0</td>\n",
       "      <td>1</td>\n",
       "      <td>0</td>\n",
       "    </tr>\n",
       "    <tr>\n",
       "      <th>3</th>\n",
       "      <td>502</td>\n",
       "      <td>42</td>\n",
       "      <td>8.0</td>\n",
       "      <td>159660.80</td>\n",
       "      <td>3</td>\n",
       "      <td>1</td>\n",
       "      <td>0</td>\n",
       "      <td>113931.57</td>\n",
       "      <td>1</td>\n",
       "      <td>0</td>\n",
       "      <td>0</td>\n",
       "      <td>0</td>\n",
       "    </tr>\n",
       "    <tr>\n",
       "      <th>4</th>\n",
       "      <td>699</td>\n",
       "      <td>39</td>\n",
       "      <td>1.0</td>\n",
       "      <td>0.00</td>\n",
       "      <td>2</td>\n",
       "      <td>0</td>\n",
       "      <td>0</td>\n",
       "      <td>93826.63</td>\n",
       "      <td>0</td>\n",
       "      <td>0</td>\n",
       "      <td>0</td>\n",
       "      <td>0</td>\n",
       "    </tr>\n",
       "    <tr>\n",
       "      <th>5</th>\n",
       "      <td>850</td>\n",
       "      <td>43</td>\n",
       "      <td>2.0</td>\n",
       "      <td>125510.82</td>\n",
       "      <td>1</td>\n",
       "      <td>1</td>\n",
       "      <td>1</td>\n",
       "      <td>79084.10</td>\n",
       "      <td>0</td>\n",
       "      <td>0</td>\n",
       "      <td>1</td>\n",
       "      <td>0</td>\n",
       "    </tr>\n",
       "    <tr>\n",
       "      <th>...</th>\n",
       "      <td>...</td>\n",
       "      <td>...</td>\n",
       "      <td>...</td>\n",
       "      <td>...</td>\n",
       "      <td>...</td>\n",
       "      <td>...</td>\n",
       "      <td>...</td>\n",
       "      <td>...</td>\n",
       "      <td>...</td>\n",
       "      <td>...</td>\n",
       "      <td>...</td>\n",
       "      <td>...</td>\n",
       "    </tr>\n",
       "    <tr>\n",
       "      <th>9996</th>\n",
       "      <td>771</td>\n",
       "      <td>39</td>\n",
       "      <td>5.0</td>\n",
       "      <td>0.00</td>\n",
       "      <td>2</td>\n",
       "      <td>1</td>\n",
       "      <td>0</td>\n",
       "      <td>96270.64</td>\n",
       "      <td>0</td>\n",
       "      <td>0</td>\n",
       "      <td>0</td>\n",
       "      <td>1</td>\n",
       "    </tr>\n",
       "    <tr>\n",
       "      <th>9997</th>\n",
       "      <td>516</td>\n",
       "      <td>35</td>\n",
       "      <td>10.0</td>\n",
       "      <td>57369.61</td>\n",
       "      <td>1</td>\n",
       "      <td>1</td>\n",
       "      <td>1</td>\n",
       "      <td>101699.77</td>\n",
       "      <td>0</td>\n",
       "      <td>0</td>\n",
       "      <td>0</td>\n",
       "      <td>1</td>\n",
       "    </tr>\n",
       "    <tr>\n",
       "      <th>9998</th>\n",
       "      <td>709</td>\n",
       "      <td>36</td>\n",
       "      <td>7.0</td>\n",
       "      <td>0.00</td>\n",
       "      <td>1</td>\n",
       "      <td>0</td>\n",
       "      <td>1</td>\n",
       "      <td>42085.58</td>\n",
       "      <td>1</td>\n",
       "      <td>0</td>\n",
       "      <td>0</td>\n",
       "      <td>0</td>\n",
       "    </tr>\n",
       "    <tr>\n",
       "      <th>9999</th>\n",
       "      <td>772</td>\n",
       "      <td>42</td>\n",
       "      <td>3.0</td>\n",
       "      <td>75075.31</td>\n",
       "      <td>2</td>\n",
       "      <td>1</td>\n",
       "      <td>0</td>\n",
       "      <td>92888.52</td>\n",
       "      <td>1</td>\n",
       "      <td>1</td>\n",
       "      <td>0</td>\n",
       "      <td>1</td>\n",
       "    </tr>\n",
       "    <tr>\n",
       "      <th>10000</th>\n",
       "      <td>792</td>\n",
       "      <td>28</td>\n",
       "      <td>5.0</td>\n",
       "      <td>130142.79</td>\n",
       "      <td>1</td>\n",
       "      <td>1</td>\n",
       "      <td>0</td>\n",
       "      <td>38190.78</td>\n",
       "      <td>0</td>\n",
       "      <td>0</td>\n",
       "      <td>0</td>\n",
       "      <td>0</td>\n",
       "    </tr>\n",
       "  </tbody>\n",
       "</table>\n",
       "<p>10000 rows × 12 columns</p>\n",
       "</div>"
      ],
      "text/plain": [
       "           CreditScore  Age  Tenure    Balance  NumOfProducts  HasCrCard  \\\n",
       "RowNumber                                                                  \n",
       "1                  619   42     2.0       0.00              1          1   \n",
       "2                  608   41     1.0   83807.86              1          0   \n",
       "3                  502   42     8.0  159660.80              3          1   \n",
       "4                  699   39     1.0       0.00              2          0   \n",
       "5                  850   43     2.0  125510.82              1          1   \n",
       "...                ...  ...     ...        ...            ...        ...   \n",
       "9996               771   39     5.0       0.00              2          1   \n",
       "9997               516   35    10.0   57369.61              1          1   \n",
       "9998               709   36     7.0       0.00              1          0   \n",
       "9999               772   42     3.0   75075.31              2          1   \n",
       "10000              792   28     5.0  130142.79              1          1   \n",
       "\n",
       "           IsActiveMember  EstimatedSalary  Exited  Geography_Germany  \\\n",
       "RowNumber                                                               \n",
       "1                       1        101348.88       1                  0   \n",
       "2                       1        112542.58       0                  0   \n",
       "3                       0        113931.57       1                  0   \n",
       "4                       0         93826.63       0                  0   \n",
       "5                       1         79084.10       0                  0   \n",
       "...                   ...              ...     ...                ...   \n",
       "9996                    0         96270.64       0                  0   \n",
       "9997                    1        101699.77       0                  0   \n",
       "9998                    1         42085.58       1                  0   \n",
       "9999                    0         92888.52       1                  1   \n",
       "10000                   0         38190.78       0                  0   \n",
       "\n",
       "           Geography_Spain  Gender_Male  \n",
       "RowNumber                                \n",
       "1                        0            0  \n",
       "2                        1            0  \n",
       "3                        0            0  \n",
       "4                        0            0  \n",
       "5                        1            0  \n",
       "...                    ...          ...  \n",
       "9996                     0            1  \n",
       "9997                     0            1  \n",
       "9998                     0            0  \n",
       "9999                     0            1  \n",
       "10000                    0            0  \n",
       "\n",
       "[10000 rows x 12 columns]"
      ]
     },
     "execution_count": 6,
     "metadata": {},
     "output_type": "execute_result"
    }
   ],
   "source": [
    "#Подготовка категориальных признаков\n",
    "\n",
    "df_ohe = df.drop(['CustomerId', 'Surname'], axis=1)\n",
    "df_ohe = pd.get_dummies(df_ohe, drop_first=1)\n",
    "df_ohe"
   ]
  },
  {
   "cell_type": "code",
   "execution_count": 7,
   "metadata": {},
   "outputs": [],
   "source": [
    "#Разделение данных на обучающие, валидационную и тестовую выборки\n",
    "target = df_ohe['Exited']\n",
    "features = df_ohe.drop('Exited', axis=1)\n",
    "features_train, features_valid, target_train, target_valid = train_test_split(features, target, \n",
    "                                                                              test_size=0.4, random_state=12345)\n",
    "features_test, features_valid, target_test, target_valid = train_test_split(features_valid, target_valid, \n",
    "                                                                              test_size=0.5, random_state=12345)"
   ]
  },
  {
   "cell_type": "code",
   "execution_count": 8,
   "metadata": {},
   "outputs": [],
   "source": [
    "# Подготовка количественных признаков\n",
    "\n",
    "numeric = ['CreditScore', 'Age', 'Tenure', 'Balance', 'NumOfProducts', 'EstimatedSalary']\n",
    "scaler = StandardScaler()\n",
    "scaler.fit(features_train[numeric])\n",
    "features_train[numeric] = scaler.transform(features_train[numeric])\n",
    "features_valid[numeric] = scaler.transform(features_valid[numeric])\n",
    "features_test[numeric] = scaler.transform(features_test[numeric])"
   ]
  },
  {
   "cell_type": "code",
   "execution_count": 9,
   "metadata": {},
   "outputs": [
    {
     "data": {
      "text/html": [
       "<div>\n",
       "<style scoped>\n",
       "    .dataframe tbody tr th:only-of-type {\n",
       "        vertical-align: middle;\n",
       "    }\n",
       "\n",
       "    .dataframe tbody tr th {\n",
       "        vertical-align: top;\n",
       "    }\n",
       "\n",
       "    .dataframe thead th {\n",
       "        text-align: right;\n",
       "    }\n",
       "</style>\n",
       "<table border=\"1\" class=\"dataframe\">\n",
       "  <thead>\n",
       "    <tr style=\"text-align: right;\">\n",
       "      <th></th>\n",
       "      <th>CreditScore</th>\n",
       "      <th>Age</th>\n",
       "      <th>Tenure</th>\n",
       "      <th>Balance</th>\n",
       "      <th>NumOfProducts</th>\n",
       "      <th>HasCrCard</th>\n",
       "      <th>IsActiveMember</th>\n",
       "      <th>EstimatedSalary</th>\n",
       "      <th>Geography_Germany</th>\n",
       "      <th>Geography_Spain</th>\n",
       "      <th>Gender_Male</th>\n",
       "    </tr>\n",
       "    <tr>\n",
       "      <th>RowNumber</th>\n",
       "      <th></th>\n",
       "      <th></th>\n",
       "      <th></th>\n",
       "      <th></th>\n",
       "      <th></th>\n",
       "      <th></th>\n",
       "      <th></th>\n",
       "      <th></th>\n",
       "      <th></th>\n",
       "      <th></th>\n",
       "      <th></th>\n",
       "    </tr>\n",
       "  </thead>\n",
       "  <tbody>\n",
       "    <tr>\n",
       "      <th>7480</th>\n",
       "      <td>-0.886751</td>\n",
       "      <td>-0.373192</td>\n",
       "      <td>1.082277</td>\n",
       "      <td>1.232271</td>\n",
       "      <td>-0.891560</td>\n",
       "      <td>1</td>\n",
       "      <td>0</td>\n",
       "      <td>-0.187705</td>\n",
       "      <td>0</td>\n",
       "      <td>1</td>\n",
       "      <td>1</td>\n",
       "    </tr>\n",
       "    <tr>\n",
       "      <th>3412</th>\n",
       "      <td>0.608663</td>\n",
       "      <td>-0.183385</td>\n",
       "      <td>1.082277</td>\n",
       "      <td>0.600563</td>\n",
       "      <td>-0.891560</td>\n",
       "      <td>0</td>\n",
       "      <td>0</td>\n",
       "      <td>-0.333945</td>\n",
       "      <td>0</td>\n",
       "      <td>0</td>\n",
       "      <td>0</td>\n",
       "    </tr>\n",
       "    <tr>\n",
       "      <th>6028</th>\n",
       "      <td>2.052152</td>\n",
       "      <td>0.480939</td>\n",
       "      <td>-0.737696</td>\n",
       "      <td>1.027098</td>\n",
       "      <td>0.830152</td>\n",
       "      <td>0</td>\n",
       "      <td>1</td>\n",
       "      <td>1.503095</td>\n",
       "      <td>1</td>\n",
       "      <td>0</td>\n",
       "      <td>1</td>\n",
       "    </tr>\n",
       "    <tr>\n",
       "      <th>1248</th>\n",
       "      <td>-1.457915</td>\n",
       "      <td>-1.417129</td>\n",
       "      <td>0.354288</td>\n",
       "      <td>-1.233163</td>\n",
       "      <td>0.830152</td>\n",
       "      <td>1</td>\n",
       "      <td>0</td>\n",
       "      <td>-1.071061</td>\n",
       "      <td>0</td>\n",
       "      <td>0</td>\n",
       "      <td>1</td>\n",
       "    </tr>\n",
       "    <tr>\n",
       "      <th>3717</th>\n",
       "      <td>0.130961</td>\n",
       "      <td>-1.132419</td>\n",
       "      <td>-1.101690</td>\n",
       "      <td>1.140475</td>\n",
       "      <td>-0.891560</td>\n",
       "      <td>0</td>\n",
       "      <td>0</td>\n",
       "      <td>1.524268</td>\n",
       "      <td>1</td>\n",
       "      <td>0</td>\n",
       "      <td>0</td>\n",
       "    </tr>\n",
       "    <tr>\n",
       "      <th>...</th>\n",
       "      <td>...</td>\n",
       "      <td>...</td>\n",
       "      <td>...</td>\n",
       "      <td>...</td>\n",
       "      <td>...</td>\n",
       "      <td>...</td>\n",
       "      <td>...</td>\n",
       "      <td>...</td>\n",
       "      <td>...</td>\n",
       "      <td>...</td>\n",
       "      <td>...</td>\n",
       "    </tr>\n",
       "    <tr>\n",
       "      <th>4479</th>\n",
       "      <td>-1.073677</td>\n",
       "      <td>-0.752805</td>\n",
       "      <td>-0.373701</td>\n",
       "      <td>-1.233163</td>\n",
       "      <td>0.830152</td>\n",
       "      <td>0</td>\n",
       "      <td>1</td>\n",
       "      <td>-1.278361</td>\n",
       "      <td>0</td>\n",
       "      <td>0</td>\n",
       "      <td>1</td>\n",
       "    </tr>\n",
       "    <tr>\n",
       "      <th>4095</th>\n",
       "      <td>-1.447531</td>\n",
       "      <td>-0.942612</td>\n",
       "      <td>1.810266</td>\n",
       "      <td>-1.233163</td>\n",
       "      <td>0.830152</td>\n",
       "      <td>0</td>\n",
       "      <td>1</td>\n",
       "      <td>-1.281307</td>\n",
       "      <td>0</td>\n",
       "      <td>0</td>\n",
       "      <td>1</td>\n",
       "    </tr>\n",
       "    <tr>\n",
       "      <th>3493</th>\n",
       "      <td>0.027113</td>\n",
       "      <td>0.575842</td>\n",
       "      <td>-0.009707</td>\n",
       "      <td>-0.310229</td>\n",
       "      <td>-0.891560</td>\n",
       "      <td>0</td>\n",
       "      <td>1</td>\n",
       "      <td>-0.903158</td>\n",
       "      <td>0</td>\n",
       "      <td>0</td>\n",
       "      <td>0</td>\n",
       "    </tr>\n",
       "    <tr>\n",
       "      <th>2178</th>\n",
       "      <td>0.151731</td>\n",
       "      <td>-1.417129</td>\n",
       "      <td>-0.373701</td>\n",
       "      <td>-1.233163</td>\n",
       "      <td>0.830152</td>\n",
       "      <td>0</td>\n",
       "      <td>1</td>\n",
       "      <td>-1.128539</td>\n",
       "      <td>0</td>\n",
       "      <td>0</td>\n",
       "      <td>0</td>\n",
       "    </tr>\n",
       "    <tr>\n",
       "      <th>4579</th>\n",
       "      <td>0.400966</td>\n",
       "      <td>-0.088482</td>\n",
       "      <td>-1.465685</td>\n",
       "      <td>-1.233163</td>\n",
       "      <td>0.830152</td>\n",
       "      <td>0</td>\n",
       "      <td>0</td>\n",
       "      <td>-0.949841</td>\n",
       "      <td>0</td>\n",
       "      <td>0</td>\n",
       "      <td>1</td>\n",
       "    </tr>\n",
       "  </tbody>\n",
       "</table>\n",
       "<p>6000 rows × 11 columns</p>\n",
       "</div>"
      ],
      "text/plain": [
       "           CreditScore       Age    Tenure   Balance  NumOfProducts  \\\n",
       "RowNumber                                                             \n",
       "7480         -0.886751 -0.373192  1.082277  1.232271      -0.891560   \n",
       "3412          0.608663 -0.183385  1.082277  0.600563      -0.891560   \n",
       "6028          2.052152  0.480939 -0.737696  1.027098       0.830152   \n",
       "1248         -1.457915 -1.417129  0.354288 -1.233163       0.830152   \n",
       "3717          0.130961 -1.132419 -1.101690  1.140475      -0.891560   \n",
       "...                ...       ...       ...       ...            ...   \n",
       "4479         -1.073677 -0.752805 -0.373701 -1.233163       0.830152   \n",
       "4095         -1.447531 -0.942612  1.810266 -1.233163       0.830152   \n",
       "3493          0.027113  0.575842 -0.009707 -0.310229      -0.891560   \n",
       "2178          0.151731 -1.417129 -0.373701 -1.233163       0.830152   \n",
       "4579          0.400966 -0.088482 -1.465685 -1.233163       0.830152   \n",
       "\n",
       "           HasCrCard  IsActiveMember  EstimatedSalary  Geography_Germany  \\\n",
       "RowNumber                                                                  \n",
       "7480               1               0        -0.187705                  0   \n",
       "3412               0               0        -0.333945                  0   \n",
       "6028               0               1         1.503095                  1   \n",
       "1248               1               0        -1.071061                  0   \n",
       "3717               0               0         1.524268                  1   \n",
       "...              ...             ...              ...                ...   \n",
       "4479               0               1        -1.278361                  0   \n",
       "4095               0               1        -1.281307                  0   \n",
       "3493               0               1        -0.903158                  0   \n",
       "2178               0               1        -1.128539                  0   \n",
       "4579               0               0        -0.949841                  0   \n",
       "\n",
       "           Geography_Spain  Gender_Male  \n",
       "RowNumber                                \n",
       "7480                     1            1  \n",
       "3412                     0            0  \n",
       "6028                     0            1  \n",
       "1248                     0            1  \n",
       "3717                     0            0  \n",
       "...                    ...          ...  \n",
       "4479                     0            1  \n",
       "4095                     0            1  \n",
       "3493                     0            0  \n",
       "2178                     0            0  \n",
       "4579                     0            1  \n",
       "\n",
       "[6000 rows x 11 columns]"
      ]
     },
     "execution_count": 9,
     "metadata": {},
     "output_type": "execute_result"
    }
   ],
   "source": [
    "features_train"
   ]
  },
  {
   "cell_type": "markdown",
   "metadata": {},
   "source": [
    "## Исследование задачи"
   ]
  },
  {
   "cell_type": "markdown",
   "metadata": {},
   "source": [
    "Попробуем найти необходимую модель без исследования баланса классов"
   ]
  },
  {
   "cell_type": "code",
   "execution_count": null,
   "metadata": {},
   "outputs": [],
   "source": [
    "#Дерево решений\n",
    "\n",
    "best_model_tree = None\n",
    "best_result_tree = 0\n",
    "best_depth_tree = 0\n",
    "for depth in range(1, 16):\n",
    "    model_tree = DecisionTreeClassifier(random_state=12345, max_depth=depth)\n",
    "    model_tree.fit(features_train, target_train)\n",
    "    predictions = model_tree.predict(features_valid)\n",
    "    result = f1_score(target_valid, predictions)\n",
    "    if result > best_result_tree:\n",
    "        best_model_tree = model_tree\n",
    "        best_result_tree = result\n",
    "        best_depth = depth\n",
    "        \n",
    "print('F1 лучшей модели дерева решений:', best_result_tree, 'с глубиной дерева равной', best_depth)\n",
    "\n",
    "probabilities_valid = best_model_tree.predict_proba(features_valid)\n",
    "probabilities_one_valid = probabilities_valid[:, 1]\n",
    "auc_roc = roc_auc_score(target_valid, probabilities_one_valid)\n",
    "print('AUC-ROC равна:', auc_roc)"
   ]
  },
  {
   "cell_type": "code",
   "execution_count": null,
   "metadata": {},
   "outputs": [],
   "source": [
    "#Случайный лес\n",
    "\n",
    "best_result_forest = 0\n",
    "best_depth_forest = 0\n",
    "best_est_forest = 0\n",
    "best_model_forest = None\n",
    "for est in range(10, 101, 10):\n",
    "    for depth in range(1, 13):\n",
    "        model_forest = RandomForestClassifier(random_state=12345, n_estimators=est, max_depth=depth)\n",
    "        scores = cross_validate(model_forest, features, target, cv=5)['test_score']\n",
    "        result = scores.sum()/len(list(scores))\n",
    "        if result > best_result_forest:\n",
    "            best_result_forest = result\n",
    "            best_depth_forest = depth\n",
    "            best_est_forest = est\n",
    "            best_model_forest = model_forest\n",
    "\n",
    "print('Лучшая средняя оценка по результатам кросс-валидации равна', best_result_forest, \n",
    "      'у случайного леса с количеством деревьев равным', best_est_forest, 'и глубиной равной', best_depth_forest)\n",
    "\n",
    "best_model_forest.fit(features_train, target_train)\n",
    "predictions = best_model_forest.predict(features_valid)\n",
    "result_f1 = f1_score(target_valid, predictions)\n",
    "print('F1 лучшей модели cлучайного леса:', result_f1)\n",
    "\n",
    "probabilities_valid = best_model_forest.predict_proba(features_valid)\n",
    "probabilities_one_valid = probabilities_valid[:, 1]\n",
    "auc_roc = roc_auc_score(target_valid, probabilities_one_valid)\n",
    "print('AUC-ROC равна:', auc_roc)"
   ]
  },
  {
   "cell_type": "code",
   "execution_count": null,
   "metadata": {},
   "outputs": [],
   "source": []
  },
  {
   "cell_type": "code",
   "execution_count": null,
   "metadata": {},
   "outputs": [],
   "source": [
    "model_linear = LogisticRegression(solver='liblinear', random_state=12345)\n",
    "model_linear.fit(features_train, target_train)\n",
    "predicted_valid = model_linear.predict(features_valid)\n",
    "result = f1_score(target_valid, predicted_valid)\n",
    "\n",
    "print('F1 модели логистической регрессии на валидационной выборке:', result)\n",
    "\n",
    "probabilities_valid = model_linear.predict_proba(features_valid)\n",
    "probabilities_one_valid = probabilities_valid[:, 1]\n",
    "auc_roc = roc_auc_score(target_valid, probabilities_one_valid)\n",
    "print('AUC-ROC равна:', auc_roc)"
   ]
  },
  {
   "cell_type": "markdown",
   "metadata": {},
   "source": [
    "Ни один вид модели не дал нужное значение F1-меры, зато мы выяснили, что модель случайного леса выдаёт наибольшее значение, значит с ней и будем работать в дальнейшем, т.к. по условию задачи сказано \"Постройте модель с предельно большим значением F1-меры.\".  \n",
    "\n",
    "Исследуем баланс классов"
   ]
  },
  {
   "cell_type": "code",
   "execution_count": null,
   "metadata": {},
   "outputs": [],
   "source": [
    "predictions = best_model_forest.predict(features_valid)\n",
    "print(confusion_matrix(target_valid, predictions))"
   ]
  },
  {
   "cell_type": "code",
   "execution_count": null,
   "metadata": {},
   "outputs": [],
   "source": [
    "print('Количество элементов отрицательного класса')\n",
    "print(target_train.loc[target_train == 0].count())\n",
    "\n",
    "print('Количество элементов положительного класса')\n",
    "print(target_train.loc[target_train == 1].count())\n",
    "\n",
    "ratio = round(target_train.loc[target_train == 0].count()/target_train.loc[target_train == 1].count())\n",
    "\n",
    "print('Сотношение количества элементов отрицательного класса к количеству элементов положительного примерно равно:', ratio)"
   ]
  },
  {
   "cell_type": "markdown",
   "metadata": {},
   "source": [
    "<b>Вывод</b>\n",
    "\n",
    "- Модель случайного леса наиболее подходит к решению данной задачи.\n",
    "- В данных наблюдается сильный дисбаланс классов. Соотношение количества элементов отрицательного класса к количеству элементов положительного примерно равно 4:1, что сказывается на предсказаниях положительного класса."
   ]
  },
  {
   "cell_type": "markdown",
   "metadata": {},
   "source": [
    "## Борьба с дисбалансом"
   ]
  },
  {
   "cell_type": "markdown",
   "metadata": {},
   "source": [
    "- Попробуем уравновесить классы аргументом class_weight='balanced'\n",
    "- Попробуем увеличить выборку положительного класса умножением её на коэф. соотношения, чтобы привести соотношение приблизительно к 1:1\n",
    "- Попробуем уменьшить выборку отрицательного класса делением её на коэф. соотношения, чтобы привести соотношение приблизительно к 1:1"
   ]
  },
  {
   "cell_type": "code",
   "execution_count": null,
   "metadata": {},
   "outputs": [],
   "source": [
    "#Уравновешивание классов\n",
    "\n",
    "model = RandomForestClassifier(random_state=12345, n_estimators= best_est_forest, \n",
    "                               max_depth=best_depth_forest, class_weight='balanced')\n",
    "model.fit(features_train, target_train)\n",
    "predicted_valid = model.predict(features_valid)\n",
    "\n",
    "print('Метрика F1-меры после взвешивания классов равна', f1_score(target_valid, predicted_valid))\n",
    "\n",
    "probabilities_valid = model.predict_proba(features_valid)\n",
    "probabilities_one_valid = probabilities_valid[:, 1]\n",
    "auc_roc = roc_auc_score(target_valid, probabilities_one_valid)\n",
    "print('AUC-ROC равна:', auc_roc)\n",
    "print(confusion_matrix(target_valid, predicted_valid))"
   ]
  },
  {
   "cell_type": "code",
   "execution_count": null,
   "metadata": {},
   "outputs": [],
   "source": [
    "#Функция увеличения выборки\n",
    "\n",
    "def upsample(features, target, repeat):\n",
    "    features_zeros = features[target == 0]\n",
    "    features_ones = features[target == 1]\n",
    "    target_zeros = target[target == 0]\n",
    "    target_ones = target[target == 1]\n",
    "\n",
    "    features_upsampled = pd.concat([features_zeros] + [features_ones] * repeat)\n",
    "    target_upsampled = pd.concat([target_zeros] + [target_ones] * repeat)\n",
    "    \n",
    "    features_upsampled, target_upsampled = shuffle(features_upsampled, target_upsampled, random_state=12345)\n",
    "    \n",
    "    return features_upsampled, target_upsampled"
   ]
  },
  {
   "cell_type": "code",
   "execution_count": null,
   "metadata": {},
   "outputs": [],
   "source": [
    "#Проверка работы функции\n",
    "\n",
    "print(features_train.shape)\n",
    "print(target_train.shape)\n",
    "\n",
    "features_upsampled, target_upsampled = upsample(features_train, target_train, ratio)\n",
    "\n",
    "print(features_upsampled.shape)\n",
    "print(target_upsampled.shape)"
   ]
  },
  {
   "cell_type": "code",
   "execution_count": null,
   "metadata": {},
   "outputs": [],
   "source": [
    "#Увеличение выборки и проверка на модели случайного леса\n",
    "\n",
    "scaler = StandardScaler()\n",
    "scaler.fit(features_upsampled[numeric])\n",
    "features_upsampled[numeric] = scaler.transform(features_upsampled[numeric])\n",
    "\n",
    "model = RandomForestClassifier(random_state=12345, n_estimators=best_est_forest, max_depth=best_depth_forest)\n",
    "model.fit(features_upsampled, target_upsampled)\n",
    "predicted_valid = model.predict(features_valid)\n",
    "\n",
    "print('Метрика F1-меры после увеличения выборки положительного класса равна', f1_score(target_valid, predicted_valid))\n",
    "\n",
    "probabilities_valid = model_linear.predict_proba(features_valid)\n",
    "probabilities_one_valid = probabilities_valid[:, 1]\n",
    "auc_roc = roc_auc_score(target_valid, probabilities_one_valid)\n",
    "print('AUC-ROC равна:', auc_roc)\n",
    "print(confusion_matrix(target_valid, predicted_valid))"
   ]
  },
  {
   "cell_type": "code",
   "execution_count": null,
   "metadata": {},
   "outputs": [],
   "source": [
    "#Функция уменьшения выборки отрицательного класса\n",
    "\n",
    "def downsample(features, target, fraction):\n",
    "    features_zeros = features[target == 0]\n",
    "    features_ones = features[target == 1]\n",
    "    target_zeros = target[target == 0]\n",
    "    target_ones = target[target == 1]\n",
    "\n",
    "    features_downsampled = pd.concat(\n",
    "        [features_zeros.sample(frac=fraction, random_state=12345)] + [features_ones])\n",
    "    target_downsampled = pd.concat(\n",
    "        [target_zeros.sample(frac=fraction, random_state=12345)] + [target_ones])\n",
    "    \n",
    "    features_downsampled, target_downsampled = shuffle(\n",
    "        features_downsampled, target_downsampled, random_state=12345)\n",
    "    \n",
    "    return features_downsampled, target_downsampled"
   ]
  },
  {
   "cell_type": "code",
   "execution_count": null,
   "metadata": {},
   "outputs": [],
   "source": [
    "#Проверка работы функции\n",
    "\n",
    "features_downsampled, target_downsampled = downsample(features_train, target_train, 1/ratio)\n",
    "\n",
    "print(features_downsampled.shape)\n",
    "print(target_downsampled.shape)"
   ]
  },
  {
   "cell_type": "code",
   "execution_count": null,
   "metadata": {},
   "outputs": [],
   "source": [
    "#Уменьшение выборки отрицательного класса и проверка на модели случайного леса\n",
    "\n",
    "scaler = StandardScaler()\n",
    "scaler.fit(features_downsampled[numeric])\n",
    "features_downsampled[numeric] = scaler.transform(features_downsampled[numeric])\n",
    "\n",
    "model = RandomForestClassifier(random_state=12345, n_estimators= best_est_forest, max_depth=best_depth_forest)\n",
    "model.fit(features_downsampled, target_downsampled)\n",
    "predicted_valid = model.predict(features_valid)\n",
    "\n",
    "print('Метрика F1-меры после уменьшения выборки отрицательного класса равна', f1_score(target_valid, predicted_valid))\n",
    "\n",
    "probabilities_valid = model_linear.predict_proba(features_valid)\n",
    "probabilities_one_valid = probabilities_valid[:, 1]\n",
    "auc_roc = roc_auc_score(target_valid, probabilities_one_valid)\n",
    "print('AUC-ROC равна:', auc_roc)\n",
    "print(confusion_matrix(target_valid, predicted_valid))"
   ]
  },
  {
   "cell_type": "markdown",
   "metadata": {},
   "source": [
    "Как видим, нам не удалось достичь нужного значения F1-меры. Стоит попробовать привести баланс классов к 1:1 путём небольшого увеличения выборки положительного класса и небольшого уменьшения выборки отрицательного класса"
   ]
  },
  {
   "cell_type": "code",
   "execution_count": null,
   "metadata": {},
   "outputs": [],
   "source": [
    "#Приведение выборок к соотношению 1:1\n",
    "\n",
    "features_upsampled, target_upsampled = upsample(features_train, target_train, 3)\n",
    "features_downsampled, target_downsampled = downsample(features_upsampled, target_upsampled, 0.75)\n",
    "\n",
    "print(features_downsampled.shape)\n",
    "print(target_downsampled.shape)"
   ]
  },
  {
   "cell_type": "code",
   "execution_count": null,
   "metadata": {},
   "outputs": [],
   "source": [
    "#Приведение выборок к соотношению 1:1 и проверка на модели случайного леса\n",
    "\n",
    "scaler = StandardScaler()\n",
    "scaler.fit(features_downsampled[numeric])\n",
    "features_downsampled[numeric] = scaler.transform(features_downsampled[numeric])\n",
    "\n",
    "model = RandomForestClassifier(random_state=12345, n_estimators= best_est_forest, max_depth=best_depth_forest)\n",
    "model.fit(features_downsampled, target_downsampled)\n",
    "predicted_valid = model.predict(features_valid)\n",
    "\n",
    "print('Метрика F1-меры после увеличения выборки положительного класса равна', f1_score(target_valid, predicted_valid))\n",
    "probabilities_valid = model_linear.predict_proba(features_valid)\n",
    "probabilities_one_valid = probabilities_valid[:, 1]\n",
    "auc_roc = roc_auc_score(target_valid, probabilities_one_valid)\n",
    "print('AUC-ROC равна:', auc_roc)\n",
    "print(confusion_matrix(target_valid, predicted_valid))"
   ]
  },
  {
   "cell_type": "markdown",
   "metadata": {},
   "source": [
    "Нужное значение достигнуто, однако имеет смысл ещё раз перебором найти наилучшие гиперпараметры для модели на полученных выборках для увеличения её качества"
   ]
  },
  {
   "cell_type": "code",
   "execution_count": null,
   "metadata": {
    "scrolled": true
   },
   "outputs": [],
   "source": [
    "best_result_forest = 0\n",
    "best_model_forest = None\n",
    "best_depth_forest = 0\n",
    "best_est_forest = 0\n",
    "for est in range(10, 121, 10):\n",
    "    for depth in range(1, 16):\n",
    "        model_forest = RandomForestClassifier(random_state=12345, n_estimators=est, max_depth=depth, class_weight='balanced')\n",
    "        model_forest.fit(features_downsampled, target_downsampled)\n",
    "        predicted_valid = model_forest.predict(features_valid)\n",
    "        result = f1_score(predicted_valid, target_valid)\n",
    "        if result > best_result_forest:\n",
    "            best_model_forest = model_forest\n",
    "            best_result_forest = result\n",
    "            best_depth_forest = depth\n",
    "            best_est_forest = est\n",
    "            \n",
    "print('F1 наилучшей модели случайного леса на валидационной выборке:', best_result_forest, \n",
    "      'Количество деревьев:', best_est_forest, 'Глубина дерева:', best_depth_forest)\n",
    "\n",
    "probabilities_valid = best_model_forest.predict_proba(features_valid)\n",
    "probabilities_one_valid = probabilities_valid[:, 1]\n",
    "auc_roc = roc_auc_score(target_valid, probabilities_one_valid)\n",
    "print('AUC-ROC равна:', auc_roc)"
   ]
  },
  {
   "cell_type": "markdown",
   "metadata": {},
   "source": [
    "## Тестирование модели"
   ]
  },
  {
   "cell_type": "code",
   "execution_count": null,
   "metadata": {
    "scrolled": true
   },
   "outputs": [],
   "source": [
    "model = RandomForestClassifier(random_state=12345, n_estimators=best_est_forest, \n",
    "                               max_depth=best_depth_forest, class_weight='balanced')\n",
    "model.fit(features_downsampled, target_downsampled)\n",
    "predictions = model.predict(features_test)\n",
    "result = f1_score(predictions, target_test)\n",
    "print('F1 наилучшей модели случайного леса на тестовой выборке:', result)\n",
    "if result > 0.59:\n",
    "    print('Нужное значение F1 меры достигнуто')\n",
    "else:\n",
    "    print('Нужное значение F1 меры не достигнуто')\n",
    "\n",
    "probabilities_valid = best_model_forest.predict_proba(features_valid)\n",
    "probabilities_one_valid = probabilities_valid[:, 1]\n",
    "auc_roc = roc_auc_score(target_valid, probabilities_one_valid)\n",
    "print('AUC-ROC равна:', auc_roc)"
   ]
  },
  {
   "cell_type": "markdown",
   "metadata": {},
   "source": [
    "<b>Вывод</b>\n",
    "\n",
    "Необходимое значение F1-меры достигнуто. Стоит также отметить, что судя по метрике AUC-ROC полученная модель довольно сильно отличается от случайной модели в лучшую сторону, что говорит о её адекватности."
   ]
  },
  {
   "cell_type": "markdown",
   "metadata": {},
   "source": [
    "## Чек-лист готовности проекта"
   ]
  },
  {
   "cell_type": "markdown",
   "metadata": {},
   "source": [
    "Поставьте 'x' в выполненных пунктах. Далее нажмите Shift+Enter."
   ]
  },
  {
   "cell_type": "markdown",
   "metadata": {},
   "source": [
    "- [x]  Jupyter Notebook открыт\n",
    "- [x]  Весь код выполняется без ошибок\n",
    "- [x]  Ячейки с кодом расположены в порядке исполнения\n",
    "- [x]  Выполнен шаг 1: данные подготовлены\n",
    "- [x]  Выполнен шаг 2: задача исследована\n",
    "    - [x]  Исследован баланс классов\n",
    "    - [x]  Изучены модели без учёта дисбаланса\n",
    "    - [x]  Написаны выводы по результатам исследования\n",
    "- [x]  Выполнен шаг 3: учтён дисбаланс\n",
    "    - [x]  Применено несколько способов борьбы с дисбалансом\n",
    "    - [x]  Написаны выводы по результатам исследования\n",
    "- [x]  Выполнен шаг 4: проведено тестирование\n",
    "- [x]  Удалось достичь *F1*-меры не менее 0.59\n",
    "- [x]  Исследована метрика *AUC-ROC*"
   ]
  }
 ],
 "metadata": {
  "ExecuteTimeLog": [
   {
    "duration": 1711,
    "start_time": "2022-03-19T09:22:31.779Z"
   },
   {
    "duration": 73,
    "start_time": "2022-03-19T09:23:25.902Z"
   },
   {
    "duration": 73,
    "start_time": "2022-03-19T10:12:04.411Z"
   },
   {
    "duration": 19,
    "start_time": "2022-03-19T10:12:54.335Z"
   },
   {
    "duration": 7,
    "start_time": "2022-03-19T10:14:54.324Z"
   },
   {
    "duration": 7,
    "start_time": "2022-03-19T10:17:22.874Z"
   },
   {
    "duration": 6,
    "start_time": "2022-03-19T10:19:51.571Z"
   },
   {
    "duration": 24,
    "start_time": "2022-03-19T10:21:51.947Z"
   },
   {
    "duration": 7,
    "start_time": "2022-03-19T10:28:42.729Z"
   },
   {
    "duration": 32,
    "start_time": "2022-03-19T10:29:09.939Z"
   },
   {
    "duration": 6,
    "start_time": "2022-03-19T10:30:06.804Z"
   },
   {
    "duration": 12,
    "start_time": "2022-03-19T10:35:29.920Z"
   },
   {
    "duration": 43,
    "start_time": "2022-03-19T10:39:08.042Z"
   },
   {
    "duration": 42,
    "start_time": "2022-03-19T10:40:09.878Z"
   },
   {
    "duration": 38,
    "start_time": "2022-03-19T10:46:12.095Z"
   },
   {
    "duration": 29,
    "start_time": "2022-03-19T10:46:41.947Z"
   },
   {
    "duration": 13,
    "start_time": "2022-03-19T10:47:21.009Z"
   },
   {
    "duration": 40,
    "start_time": "2022-03-19T10:47:21.748Z"
   },
   {
    "duration": 43,
    "start_time": "2022-03-19T10:51:03.663Z"
   },
   {
    "duration": 40,
    "start_time": "2022-03-19T10:52:05.251Z"
   },
   {
    "duration": 38,
    "start_time": "2022-03-19T10:52:30.542Z"
   },
   {
    "duration": 36,
    "start_time": "2022-03-19T10:52:39.825Z"
   },
   {
    "duration": 45,
    "start_time": "2022-03-19T10:52:48.662Z"
   },
   {
    "duration": 40,
    "start_time": "2022-03-19T10:53:06.694Z"
   },
   {
    "duration": 34,
    "start_time": "2022-03-19T11:17:22.118Z"
   },
   {
    "duration": 15,
    "start_time": "2022-03-19T11:41:08.131Z"
   },
   {
    "duration": 52,
    "start_time": "2022-03-19T11:41:08.635Z"
   },
   {
    "duration": 1152,
    "start_time": "2022-03-19T15:36:35.728Z"
   },
   {
    "duration": 64,
    "start_time": "2022-03-19T15:36:36.882Z"
   },
   {
    "duration": 13,
    "start_time": "2022-03-19T15:36:36.948Z"
   },
   {
    "duration": 4,
    "start_time": "2022-03-19T15:36:36.963Z"
   },
   {
    "duration": 9,
    "start_time": "2022-03-19T15:36:36.969Z"
   },
   {
    "duration": 38,
    "start_time": "2022-03-19T15:36:36.980Z"
   },
   {
    "duration": 22,
    "start_time": "2022-03-19T15:36:37.020Z"
   },
   {
    "duration": 9,
    "start_time": "2022-03-19T15:36:37.044Z"
   },
   {
    "duration": 133,
    "start_time": "2022-03-19T15:36:37.055Z"
   },
   {
    "duration": 21,
    "start_time": "2022-03-19T15:36:50.995Z"
   },
   {
    "duration": 21,
    "start_time": "2022-03-19T15:55:54.352Z"
   },
   {
    "duration": 10,
    "start_time": "2022-03-19T15:56:04.930Z"
   },
   {
    "duration": 10,
    "start_time": "2022-03-19T15:56:10.499Z"
   },
   {
    "duration": 12,
    "start_time": "2022-03-19T15:56:26.036Z"
   },
   {
    "duration": 1211,
    "start_time": "2022-03-19T15:56:39.401Z"
   },
   {
    "duration": 53,
    "start_time": "2022-03-19T15:56:40.615Z"
   },
   {
    "duration": 14,
    "start_time": "2022-03-19T15:56:40.670Z"
   },
   {
    "duration": 4,
    "start_time": "2022-03-19T15:56:40.687Z"
   },
   {
    "duration": 5,
    "start_time": "2022-03-19T15:56:40.710Z"
   },
   {
    "duration": 19,
    "start_time": "2022-03-19T15:56:40.717Z"
   },
   {
    "duration": 20,
    "start_time": "2022-03-19T15:56:40.738Z"
   },
   {
    "duration": 10,
    "start_time": "2022-03-19T15:56:40.760Z"
   },
   {
    "duration": 50,
    "start_time": "2022-03-19T15:56:40.771Z"
   },
   {
    "duration": 108,
    "start_time": "2022-03-19T15:56:48.704Z"
   },
   {
    "duration": 1159,
    "start_time": "2022-03-19T15:56:59.824Z"
   },
   {
    "duration": 53,
    "start_time": "2022-03-19T15:57:00.985Z"
   },
   {
    "duration": 21,
    "start_time": "2022-03-19T15:57:01.040Z"
   },
   {
    "duration": 6,
    "start_time": "2022-03-19T15:57:01.064Z"
   },
   {
    "duration": 20,
    "start_time": "2022-03-19T15:57:01.072Z"
   },
   {
    "duration": 44,
    "start_time": "2022-03-19T15:57:01.094Z"
   },
   {
    "duration": 22,
    "start_time": "2022-03-19T15:57:01.140Z"
   },
   {
    "duration": 10,
    "start_time": "2022-03-19T15:57:01.164Z"
   },
   {
    "duration": 31,
    "start_time": "2022-03-19T15:57:01.176Z"
   },
   {
    "duration": 4,
    "start_time": "2022-03-19T16:09:28.516Z"
   },
   {
    "duration": 3,
    "start_time": "2022-03-19T16:10:19.869Z"
   },
   {
    "duration": 39,
    "start_time": "2022-03-19T16:12:37.283Z"
   },
   {
    "duration": 33,
    "start_time": "2022-03-19T16:13:48.446Z"
   },
   {
    "duration": 4,
    "start_time": "2022-03-19T16:20:57.398Z"
   },
   {
    "duration": 49,
    "start_time": "2022-03-19T16:21:20.182Z"
   },
   {
    "duration": 44,
    "start_time": "2022-03-19T16:23:07.824Z"
   },
   {
    "duration": 5,
    "start_time": "2022-03-19T16:24:22.721Z"
   },
   {
    "duration": 128,
    "start_time": "2022-03-19T16:25:24.119Z"
   },
   {
    "duration": 4,
    "start_time": "2022-03-19T16:25:53.984Z"
   },
   {
    "duration": 3,
    "start_time": "2022-03-19T16:28:45.627Z"
   },
   {
    "duration": 4,
    "start_time": "2022-03-19T16:28:58.195Z"
   },
   {
    "duration": 18,
    "start_time": "2022-03-19T16:28:59.139Z"
   },
   {
    "duration": 1176,
    "start_time": "2022-03-19T16:29:21.503Z"
   },
   {
    "duration": 52,
    "start_time": "2022-03-19T16:29:22.681Z"
   },
   {
    "duration": 12,
    "start_time": "2022-03-19T16:29:22.735Z"
   },
   {
    "duration": 5,
    "start_time": "2022-03-19T16:29:22.749Z"
   },
   {
    "duration": 4,
    "start_time": "2022-03-19T16:29:22.756Z"
   },
   {
    "duration": 15,
    "start_time": "2022-03-19T16:29:22.762Z"
   },
   {
    "duration": 49,
    "start_time": "2022-03-19T16:29:22.779Z"
   },
   {
    "duration": 10,
    "start_time": "2022-03-19T16:29:22.829Z"
   },
   {
    "duration": 14,
    "start_time": "2022-03-19T16:29:22.841Z"
   },
   {
    "duration": 65,
    "start_time": "2022-03-19T16:29:22.857Z"
   },
   {
    "duration": 34,
    "start_time": "2022-03-19T16:29:22.924Z"
   },
   {
    "duration": 4,
    "start_time": "2022-03-19T16:29:22.960Z"
   },
   {
    "duration": 124,
    "start_time": "2022-03-19T16:29:22.966Z"
   },
   {
    "duration": 4,
    "start_time": "2022-03-19T16:29:39.381Z"
   },
   {
    "duration": 16,
    "start_time": "2022-03-19T16:29:39.830Z"
   },
   {
    "duration": 4,
    "start_time": "2022-03-19T16:29:57.078Z"
   },
   {
    "duration": 37,
    "start_time": "2022-03-19T16:33:30.741Z"
   },
   {
    "duration": 1135,
    "start_time": "2022-03-19T16:37:11.007Z"
   },
   {
    "duration": 53,
    "start_time": "2022-03-19T16:37:12.144Z"
   },
   {
    "duration": 13,
    "start_time": "2022-03-19T16:37:12.198Z"
   },
   {
    "duration": 4,
    "start_time": "2022-03-19T16:37:12.213Z"
   },
   {
    "duration": 4,
    "start_time": "2022-03-19T16:37:12.220Z"
   },
   {
    "duration": 19,
    "start_time": "2022-03-19T16:37:12.226Z"
   },
   {
    "duration": 23,
    "start_time": "2022-03-19T16:37:12.247Z"
   },
   {
    "duration": 38,
    "start_time": "2022-03-19T16:37:12.272Z"
   },
   {
    "duration": 14,
    "start_time": "2022-03-19T16:37:12.312Z"
   },
   {
    "duration": 36,
    "start_time": "2022-03-19T16:37:12.327Z"
   },
   {
    "duration": 54,
    "start_time": "2022-03-19T16:37:12.365Z"
   },
   {
    "duration": 4,
    "start_time": "2022-03-19T16:37:12.421Z"
   },
   {
    "duration": 5,
    "start_time": "2022-03-19T16:37:12.426Z"
   },
   {
    "duration": 109,
    "start_time": "2022-03-19T16:37:25.765Z"
   },
   {
    "duration": 3,
    "start_time": "2022-03-19T16:37:44.032Z"
   },
   {
    "duration": 4,
    "start_time": "2022-03-19T16:37:52.306Z"
   },
   {
    "duration": 12,
    "start_time": "2022-03-19T16:37:52.999Z"
   },
   {
    "duration": 4,
    "start_time": "2022-03-19T16:38:41.517Z"
   },
   {
    "duration": 10,
    "start_time": "2022-03-19T16:38:42.007Z"
   },
   {
    "duration": 39,
    "start_time": "2022-03-19T16:39:36.114Z"
   },
   {
    "duration": 56,
    "start_time": "2022-03-19T16:39:50.455Z"
   },
   {
    "duration": 5,
    "start_time": "2022-03-19T16:41:42.046Z"
   },
   {
    "duration": 22,
    "start_time": "2022-03-19T16:42:19.400Z"
   },
   {
    "duration": 13,
    "start_time": "2022-03-19T16:42:32.432Z"
   },
   {
    "duration": 12,
    "start_time": "2022-03-19T16:42:42.441Z"
   },
   {
    "duration": 11,
    "start_time": "2022-03-19T16:42:49.416Z"
   },
   {
    "duration": 29,
    "start_time": "2022-03-19T16:43:37.936Z"
   },
   {
    "duration": 45,
    "start_time": "2022-03-19T16:44:50.265Z"
   },
   {
    "duration": 30,
    "start_time": "2022-03-19T16:45:02.265Z"
   },
   {
    "duration": 476,
    "start_time": "2022-03-19T16:48:35.914Z"
   },
   {
    "duration": 426,
    "start_time": "2022-03-19T16:49:51.208Z"
   },
   {
    "duration": 40549,
    "start_time": "2022-03-19T16:50:06.162Z"
   },
   {
    "duration": 49,
    "start_time": "2022-03-19T16:50:59.707Z"
   },
   {
    "duration": 40,
    "start_time": "2022-03-19T16:51:46.475Z"
   },
   {
    "duration": 40394,
    "start_time": "2022-03-19T16:51:52.323Z"
   },
   {
    "duration": 170863,
    "start_time": "2022-03-19T16:53:08.404Z"
   },
   {
    "duration": 407,
    "start_time": "2022-03-19T17:46:16.878Z"
   },
   {
    "duration": 411,
    "start_time": "2022-03-19T17:46:23.634Z"
   },
   {
    "duration": 1248,
    "start_time": "2022-03-19T17:46:31.893Z"
   },
   {
    "duration": 115,
    "start_time": "2022-03-19T17:46:37.716Z"
   },
   {
    "duration": 116,
    "start_time": "2022-03-19T17:46:47.929Z"
   },
   {
    "duration": 36,
    "start_time": "2022-03-19T17:46:54.124Z"
   },
   {
    "duration": 264,
    "start_time": "2022-03-19T17:47:01.463Z"
   },
   {
    "duration": 103392,
    "start_time": "2022-03-19T17:47:46.245Z"
   },
   {
    "duration": 89293,
    "start_time": "2022-03-19T17:50:20.835Z"
   },
   {
    "duration": 4,
    "start_time": "2022-03-19T17:59:50.746Z"
   },
   {
    "duration": 11,
    "start_time": "2022-03-19T17:59:53.233Z"
   },
   {
    "duration": 22,
    "start_time": "2022-03-19T18:00:31.213Z"
   },
   {
    "duration": 1145,
    "start_time": "2022-03-19T19:14:49.964Z"
   },
   {
    "duration": 54,
    "start_time": "2022-03-19T19:14:51.112Z"
   },
   {
    "duration": 14,
    "start_time": "2022-03-19T19:14:51.427Z"
   },
   {
    "duration": 6,
    "start_time": "2022-03-19T19:14:52.002Z"
   },
   {
    "duration": 6,
    "start_time": "2022-03-19T19:14:52.524Z"
   },
   {
    "duration": 17,
    "start_time": "2022-03-19T19:14:53.681Z"
   },
   {
    "duration": 22,
    "start_time": "2022-03-19T19:14:55.579Z"
   },
   {
    "duration": 9,
    "start_time": "2022-03-19T19:14:55.882Z"
   },
   {
    "duration": 17,
    "start_time": "2022-03-19T19:14:57.307Z"
   },
   {
    "duration": 37,
    "start_time": "2022-03-19T19:14:58.914Z"
   },
   {
    "duration": 34,
    "start_time": "2022-03-19T19:15:00.131Z"
   },
   {
    "duration": 278,
    "start_time": "2022-03-19T19:15:01.275Z"
   },
   {
    "duration": 89711,
    "start_time": "2022-03-19T19:15:13.691Z"
   },
   {
    "duration": 102,
    "start_time": "2022-03-19T19:20:07.394Z"
   },
   {
    "duration": 16,
    "start_time": "2022-03-19T19:20:14.028Z"
   },
   {
    "duration": 14,
    "start_time": "2022-03-19T19:20:19.762Z"
   },
   {
    "duration": 4,
    "start_time": "2022-03-19T19:21:36.466Z"
   },
   {
    "duration": 23,
    "start_time": "2022-03-19T22:31:35.586Z"
   },
   {
    "duration": 45,
    "start_time": "2022-03-20T06:02:06.221Z"
   },
   {
    "duration": 1462,
    "start_time": "2022-03-20T06:02:23.206Z"
   },
   {
    "duration": 78,
    "start_time": "2022-03-20T06:02:24.671Z"
   },
   {
    "duration": 19,
    "start_time": "2022-03-20T06:02:24.751Z"
   },
   {
    "duration": 6,
    "start_time": "2022-03-20T06:02:24.773Z"
   },
   {
    "duration": 5,
    "start_time": "2022-03-20T06:02:24.781Z"
   },
   {
    "duration": 53,
    "start_time": "2022-03-20T06:02:24.788Z"
   },
   {
    "duration": 32,
    "start_time": "2022-03-20T06:02:24.843Z"
   },
   {
    "duration": 14,
    "start_time": "2022-03-20T06:02:24.877Z"
   },
   {
    "duration": 41,
    "start_time": "2022-03-20T06:02:24.893Z"
   },
   {
    "duration": 176,
    "start_time": "2022-03-20T06:02:24.937Z"
   },
   {
    "duration": 0,
    "start_time": "2022-03-20T06:02:25.115Z"
   },
   {
    "duration": 0,
    "start_time": "2022-03-20T06:02:25.117Z"
   },
   {
    "duration": 0,
    "start_time": "2022-03-20T06:02:25.118Z"
   },
   {
    "duration": 0,
    "start_time": "2022-03-20T06:02:25.120Z"
   },
   {
    "duration": 0,
    "start_time": "2022-03-20T06:02:25.133Z"
   },
   {
    "duration": 0,
    "start_time": "2022-03-20T06:02:25.135Z"
   },
   {
    "duration": 0,
    "start_time": "2022-03-20T06:02:25.137Z"
   },
   {
    "duration": 0,
    "start_time": "2022-03-20T06:02:25.139Z"
   },
   {
    "duration": 0,
    "start_time": "2022-03-20T06:02:25.140Z"
   },
   {
    "duration": 334,
    "start_time": "2022-03-20T06:04:45.958Z"
   },
   {
    "duration": 245,
    "start_time": "2022-03-20T06:05:53.787Z"
   },
   {
    "duration": 81640,
    "start_time": "2022-03-20T06:05:59.656Z"
   },
   {
    "duration": 102,
    "start_time": "2022-03-20T06:07:34.543Z"
   },
   {
    "duration": 34,
    "start_time": "2022-03-20T06:07:39.928Z"
   },
   {
    "duration": 5,
    "start_time": "2022-03-20T06:11:52.797Z"
   },
   {
    "duration": 10,
    "start_time": "2022-03-20T06:11:53.911Z"
   },
   {
    "duration": 14,
    "start_time": "2022-03-20T06:12:04.750Z"
   },
   {
    "duration": 7,
    "start_time": "2022-03-20T06:14:18.158Z"
   },
   {
    "duration": 5,
    "start_time": "2022-03-20T06:15:05.223Z"
   },
   {
    "duration": 7,
    "start_time": "2022-03-20T06:16:26.559Z"
   },
   {
    "duration": 8,
    "start_time": "2022-03-20T06:17:42.647Z"
   },
   {
    "duration": 9,
    "start_time": "2022-03-20T06:19:37.685Z"
   },
   {
    "duration": 9,
    "start_time": "2022-03-20T06:19:48.205Z"
   },
   {
    "duration": 15,
    "start_time": "2022-03-20T06:19:56.526Z"
   },
   {
    "duration": 857,
    "start_time": "2022-03-20T06:21:21.875Z"
   },
   {
    "duration": 742,
    "start_time": "2022-03-20T06:24:19.797Z"
   },
   {
    "duration": 730,
    "start_time": "2022-03-20T06:25:35.131Z"
   },
   {
    "duration": 4,
    "start_time": "2022-03-20T06:26:09.653Z"
   },
   {
    "duration": 9,
    "start_time": "2022-03-20T06:26:21.910Z"
   },
   {
    "duration": 292,
    "start_time": "2022-03-20T06:26:45.950Z"
   },
   {
    "duration": 15,
    "start_time": "2022-03-20T06:29:49.884Z"
   },
   {
    "duration": 14,
    "start_time": "2022-03-20T06:30:13.291Z"
   },
   {
    "duration": 17,
    "start_time": "2022-03-20T06:30:46.038Z"
   },
   {
    "duration": 418,
    "start_time": "2022-03-20T06:31:24.245Z"
   },
   {
    "duration": 34,
    "start_time": "2022-03-20T06:32:19.790Z"
   },
   {
    "duration": 74532,
    "start_time": "2022-03-20T06:32:35.914Z"
   },
   {
    "duration": 33187,
    "start_time": "2022-03-20T06:34:26.572Z"
   },
   {
    "duration": 34821,
    "start_time": "2022-03-20T06:36:01.813Z"
   },
   {
    "duration": 14,
    "start_time": "2022-03-20T06:40:37.165Z"
   },
   {
    "duration": 21,
    "start_time": "2022-03-20T06:41:53.036Z"
   },
   {
    "duration": 1102,
    "start_time": "2022-03-20T06:42:38.459Z"
   },
   {
    "duration": 67,
    "start_time": "2022-03-20T06:42:39.563Z"
   },
   {
    "duration": 16,
    "start_time": "2022-03-20T06:42:39.632Z"
   },
   {
    "duration": 8,
    "start_time": "2022-03-20T06:42:39.650Z"
   },
   {
    "duration": 6,
    "start_time": "2022-03-20T06:42:39.660Z"
   },
   {
    "duration": 17,
    "start_time": "2022-03-20T06:42:39.668Z"
   },
   {
    "duration": 24,
    "start_time": "2022-03-20T06:42:39.686Z"
   },
   {
    "duration": 32,
    "start_time": "2022-03-20T06:42:39.711Z"
   },
   {
    "duration": 21,
    "start_time": "2022-03-20T06:42:39.746Z"
   },
   {
    "duration": 250,
    "start_time": "2022-03-20T06:42:39.769Z"
   },
   {
    "duration": 85341,
    "start_time": "2022-03-20T06:42:40.021Z"
   },
   {
    "duration": 74,
    "start_time": "2022-03-20T06:44:05.364Z"
   },
   {
    "duration": 121,
    "start_time": "2022-03-20T06:44:05.444Z"
   },
   {
    "duration": 564,
    "start_time": "2022-03-20T06:44:05.569Z"
   },
   {
    "duration": 7,
    "start_time": "2022-03-20T06:44:06.139Z"
   },
   {
    "duration": 101,
    "start_time": "2022-03-20T06:44:06.154Z"
   },
   {
    "duration": 11,
    "start_time": "2022-03-20T06:44:06.257Z"
   },
   {
    "duration": 774,
    "start_time": "2022-03-20T06:44:06.269Z"
   },
   {
    "duration": 89,
    "start_time": "2022-03-20T06:44:07.046Z"
   },
   {
    "duration": 26,
    "start_time": "2022-03-20T06:44:07.137Z"
   },
   {
    "duration": 367,
    "start_time": "2022-03-20T06:44:07.165Z"
   },
   {
    "duration": 22,
    "start_time": "2022-03-20T06:44:07.535Z"
   },
   {
    "duration": 682,
    "start_time": "2022-03-20T06:44:07.559Z"
   },
   {
    "duration": 103,
    "start_time": "2022-03-20T06:44:08.246Z"
   },
   {
    "duration": 60848,
    "start_time": "2022-03-20T06:44:08.352Z"
   },
   {
    "duration": 104,
    "start_time": "2022-03-20T06:46:27.702Z"
   },
   {
    "duration": 14,
    "start_time": "2022-03-20T06:46:33.412Z"
   },
   {
    "duration": 22,
    "start_time": "2022-03-20T06:46:35.934Z"
   },
   {
    "duration": 55,
    "start_time": "2022-03-20T06:47:10.021Z"
   },
   {
    "duration": 15,
    "start_time": "2022-03-20T06:47:39.317Z"
   },
   {
    "duration": 1050,
    "start_time": "2022-03-20T06:47:45.776Z"
   },
   {
    "duration": 55,
    "start_time": "2022-03-20T06:47:46.828Z"
   },
   {
    "duration": 12,
    "start_time": "2022-03-20T06:47:46.885Z"
   },
   {
    "duration": 7,
    "start_time": "2022-03-20T06:47:46.898Z"
   },
   {
    "duration": 5,
    "start_time": "2022-03-20T06:47:46.907Z"
   },
   {
    "duration": 20,
    "start_time": "2022-03-20T06:47:46.914Z"
   },
   {
    "duration": 24,
    "start_time": "2022-03-20T06:47:46.936Z"
   },
   {
    "duration": 8,
    "start_time": "2022-03-20T06:47:46.962Z"
   },
   {
    "duration": 12,
    "start_time": "2022-03-20T06:47:46.972Z"
   },
   {
    "duration": 272,
    "start_time": "2022-03-20T06:47:46.985Z"
   },
   {
    "duration": 88811,
    "start_time": "2022-03-20T06:47:47.259Z"
   },
   {
    "duration": 87,
    "start_time": "2022-03-20T06:49:16.072Z"
   },
   {
    "duration": 101,
    "start_time": "2022-03-20T06:49:16.164Z"
   },
   {
    "duration": 578,
    "start_time": "2022-03-20T06:49:16.269Z"
   },
   {
    "duration": 6,
    "start_time": "2022-03-20T06:49:16.849Z"
   },
   {
    "duration": 104,
    "start_time": "2022-03-20T06:49:16.859Z"
   },
   {
    "duration": 11,
    "start_time": "2022-03-20T06:49:16.965Z"
   },
   {
    "duration": 767,
    "start_time": "2022-03-20T06:49:16.978Z"
   },
   {
    "duration": 9,
    "start_time": "2022-03-20T06:49:17.746Z"
   },
   {
    "duration": 111,
    "start_time": "2022-03-20T06:49:17.757Z"
   },
   {
    "duration": 286,
    "start_time": "2022-03-20T06:49:17.870Z"
   },
   {
    "duration": 87,
    "start_time": "2022-03-20T06:49:18.159Z"
   },
   {
    "duration": 588,
    "start_time": "2022-03-20T06:49:18.248Z"
   },
   {
    "duration": 217,
    "start_time": "2022-03-20T06:49:18.838Z"
   },
   {
    "duration": 35199,
    "start_time": "2022-03-20T06:50:19.671Z"
   },
   {
    "duration": 21891,
    "start_time": "2022-03-20T06:51:09.957Z"
   },
   {
    "duration": 51782,
    "start_time": "2022-03-20T06:52:01.702Z"
   },
   {
    "duration": 70853,
    "start_time": "2022-03-20T06:53:14.693Z"
   },
   {
    "duration": 501076,
    "start_time": "2022-03-20T06:54:44.142Z"
   },
   {
    "duration": 254416,
    "start_time": "2022-03-20T07:04:32.616Z"
   },
   {
    "duration": 19,
    "start_time": "2022-03-20T07:20:22.832Z"
   },
   {
    "duration": 727,
    "start_time": "2022-03-20T07:20:24.520Z"
   },
   {
    "duration": 191930,
    "start_time": "2022-03-20T07:20:53.864Z"
   },
   {
    "duration": 16,
    "start_time": "2022-03-20T07:24:25.644Z"
   },
   {
    "duration": 761,
    "start_time": "2022-03-20T07:24:26.281Z"
   },
   {
    "duration": 152640,
    "start_time": "2022-03-20T07:24:53.025Z"
   },
   {
    "duration": 155650,
    "start_time": "2022-03-20T07:27:53.706Z"
   },
   {
    "duration": 63089,
    "start_time": "2022-03-20T07:31:12.515Z"
   },
   {
    "duration": 14,
    "start_time": "2022-03-20T07:32:47.850Z"
   },
   {
    "duration": 290,
    "start_time": "2022-03-20T07:32:48.946Z"
   },
   {
    "duration": 66972,
    "start_time": "2022-03-20T07:32:59.506Z"
   },
   {
    "duration": 14,
    "start_time": "2022-03-20T07:34:34.747Z"
   },
   {
    "duration": 97,
    "start_time": "2022-03-20T07:34:41.779Z"
   },
   {
    "duration": 65188,
    "start_time": "2022-03-20T07:35:18.414Z"
   },
   {
    "duration": 230,
    "start_time": "2022-03-20T07:38:30.827Z"
   },
   {
    "duration": 56,
    "start_time": "2022-03-20T12:13:25.836Z"
   },
   {
    "duration": 1252,
    "start_time": "2022-03-20T12:13:30.829Z"
   },
   {
    "duration": 56,
    "start_time": "2022-03-20T12:13:32.084Z"
   },
   {
    "duration": 17,
    "start_time": "2022-03-20T12:13:32.142Z"
   },
   {
    "duration": 6,
    "start_time": "2022-03-20T12:13:32.162Z"
   },
   {
    "duration": 24,
    "start_time": "2022-03-20T12:13:32.171Z"
   },
   {
    "duration": 24,
    "start_time": "2022-03-20T12:13:37.061Z"
   },
   {
    "duration": 25,
    "start_time": "2022-03-20T12:13:38.917Z"
   },
   {
    "duration": 10,
    "start_time": "2022-03-20T12:13:41.573Z"
   },
   {
    "duration": 71,
    "start_time": "2022-03-20T12:13:42.358Z"
   },
   {
    "duration": 26,
    "start_time": "2022-03-20T12:14:14.088Z"
   },
   {
    "duration": 333,
    "start_time": "2022-03-20T12:14:59.397Z"
   },
   {
    "duration": 84460,
    "start_time": "2022-03-20T12:15:52.382Z"
   },
   {
    "duration": 31,
    "start_time": "2022-03-20T12:17:40.644Z"
   },
   {
    "duration": 17,
    "start_time": "2022-03-20T12:17:51.556Z"
   },
   {
    "duration": 217,
    "start_time": "2022-03-20T12:18:21.221Z"
   },
   {
    "duration": 11,
    "start_time": "2022-03-20T12:19:00.469Z"
   },
   {
    "duration": 15,
    "start_time": "2022-03-20T12:19:14.868Z"
   },
   {
    "duration": 5,
    "start_time": "2022-03-20T12:19:24.604Z"
   },
   {
    "duration": 10,
    "start_time": "2022-03-20T12:19:25.196Z"
   },
   {
    "duration": 13,
    "start_time": "2022-03-20T12:19:26.778Z"
   },
   {
    "duration": 34,
    "start_time": "2022-03-20T12:19:31.651Z"
   },
   {
    "duration": 170,
    "start_time": "2022-03-20T12:19:44.693Z"
   },
   {
    "duration": 4,
    "start_time": "2022-03-20T12:19:55.523Z"
   },
   {
    "duration": 17,
    "start_time": "2022-03-20T12:20:05.796Z"
   },
   {
    "duration": 95,
    "start_time": "2022-03-20T12:20:28.868Z"
   },
   {
    "duration": 18,
    "start_time": "2022-03-20T12:20:48.987Z"
   },
   {
    "duration": 18,
    "start_time": "2022-03-20T12:22:11.779Z"
   },
   {
    "duration": 25,
    "start_time": "2022-03-20T12:22:59.994Z"
   },
   {
    "duration": 180,
    "start_time": "2022-03-20T12:23:35.964Z"
   },
   {
    "duration": 51560,
    "start_time": "2022-03-20T12:24:08.020Z"
   },
   {
    "duration": 2753,
    "start_time": "2022-03-20T12:25:18.194Z"
   },
   {
    "duration": 59,
    "start_time": "2022-03-20T12:25:20.950Z"
   },
   {
    "duration": 18,
    "start_time": "2022-03-20T12:25:21.011Z"
   },
   {
    "duration": 5,
    "start_time": "2022-03-20T12:25:21.038Z"
   },
   {
    "duration": 10,
    "start_time": "2022-03-20T12:25:21.045Z"
   },
   {
    "duration": 16,
    "start_time": "2022-03-20T12:25:26.163Z"
   },
   {
    "duration": 12,
    "start_time": "2022-03-20T12:25:43.507Z"
   },
   {
    "duration": 4,
    "start_time": "2022-03-20T12:25:50.523Z"
   },
   {
    "duration": 39,
    "start_time": "2022-03-20T12:25:50.907Z"
   },
   {
    "duration": 13,
    "start_time": "2022-03-20T12:25:51.426Z"
   },
   {
    "duration": 6,
    "start_time": "2022-03-20T12:25:51.898Z"
   },
   {
    "duration": 4,
    "start_time": "2022-03-20T12:25:52.435Z"
   },
   {
    "duration": 14,
    "start_time": "2022-03-20T12:25:54.379Z"
   },
   {
    "duration": 27,
    "start_time": "2022-03-20T12:26:02.330Z"
   },
   {
    "duration": 11,
    "start_time": "2022-03-20T12:26:09.027Z"
   },
   {
    "duration": 19,
    "start_time": "2022-03-20T12:26:43.986Z"
   },
   {
    "duration": 10,
    "start_time": "2022-03-20T12:26:49.683Z"
   },
   {
    "duration": 42,
    "start_time": "2022-03-20T12:27:11.050Z"
   },
   {
    "duration": 24,
    "start_time": "2022-03-20T12:27:25.154Z"
   },
   {
    "duration": 316,
    "start_time": "2022-03-20T12:27:47.923Z"
   },
   {
    "duration": 76716,
    "start_time": "2022-03-20T12:28:17.803Z"
   },
   {
    "duration": 38,
    "start_time": "2022-03-20T12:29:53.003Z"
   },
   {
    "duration": 18,
    "start_time": "2022-03-20T12:29:57.483Z"
   },
   {
    "duration": 189,
    "start_time": "2022-03-20T12:30:10.651Z"
   },
   {
    "duration": 4,
    "start_time": "2022-03-20T12:30:23.882Z"
   },
   {
    "duration": 9,
    "start_time": "2022-03-20T12:30:26.562Z"
   },
   {
    "duration": 12,
    "start_time": "2022-03-20T12:30:37.954Z"
   },
   {
    "duration": 265,
    "start_time": "2022-03-20T12:30:59.875Z"
   },
   {
    "duration": 4,
    "start_time": "2022-03-20T12:31:15.739Z"
   },
   {
    "duration": 11,
    "start_time": "2022-03-20T12:31:56.195Z"
   },
   {
    "duration": 121,
    "start_time": "2022-03-20T12:32:07.020Z"
   },
   {
    "duration": 18,
    "start_time": "2022-03-20T12:32:27.371Z"
   },
   {
    "duration": 174,
    "start_time": "2022-03-20T12:32:36.971Z"
   },
   {
    "duration": 56609,
    "start_time": "2022-03-20T12:32:44.923Z"
   },
   {
    "duration": 92,
    "start_time": "2022-03-20T12:33:51.530Z"
   },
   {
    "duration": 146,
    "start_time": "2022-03-20T12:34:11.971Z"
   },
   {
    "duration": 146,
    "start_time": "2022-03-20T12:35:09.723Z"
   },
   {
    "duration": 8,
    "start_time": "2022-03-20T12:39:31.803Z"
   },
   {
    "duration": 155,
    "start_time": "2022-03-20T12:56:50.987Z"
   },
   {
    "duration": 1166,
    "start_time": "2022-03-20T12:58:30.628Z"
   },
   {
    "duration": 56,
    "start_time": "2022-03-20T12:58:31.796Z"
   },
   {
    "duration": 12,
    "start_time": "2022-03-20T12:58:32.579Z"
   },
   {
    "duration": 5,
    "start_time": "2022-03-20T12:58:33.322Z"
   },
   {
    "duration": 4,
    "start_time": "2022-03-20T12:58:34.666Z"
   },
   {
    "duration": 14,
    "start_time": "2022-03-20T12:58:36.026Z"
   },
   {
    "duration": 26,
    "start_time": "2022-03-20T12:59:36.346Z"
   },
   {
    "duration": 10,
    "start_time": "2022-03-20T12:59:39.950Z"
   },
   {
    "duration": 24,
    "start_time": "2022-03-20T12:59:41.602Z"
   },
   {
    "duration": 301,
    "start_time": "2022-03-20T12:59:43.458Z"
   },
   {
    "duration": 79247,
    "start_time": "2022-03-20T12:59:46.077Z"
   },
   {
    "duration": 26,
    "start_time": "2022-03-20T13:01:39.779Z"
   },
   {
    "duration": 15,
    "start_time": "2022-03-20T13:01:50.804Z"
   },
   {
    "duration": 9,
    "start_time": "2022-03-20T13:01:52.162Z"
   },
   {
    "duration": 226,
    "start_time": "2022-03-20T13:01:57.411Z"
   },
   {
    "duration": 4,
    "start_time": "2022-03-20T13:01:58.633Z"
   },
   {
    "duration": 13,
    "start_time": "2022-03-20T13:02:02.113Z"
   },
   {
    "duration": 249,
    "start_time": "2022-03-20T13:02:03.394Z"
   },
   {
    "duration": 4,
    "start_time": "2022-03-20T13:02:10.514Z"
   },
   {
    "duration": 11,
    "start_time": "2022-03-20T13:02:12.585Z"
   },
   {
    "duration": 131,
    "start_time": "2022-03-20T13:02:14.115Z"
   },
   {
    "duration": 18,
    "start_time": "2022-03-20T13:02:25.194Z"
   },
   {
    "duration": 219,
    "start_time": "2022-03-20T13:02:26.427Z"
   },
   {
    "duration": 78436,
    "start_time": "2022-03-20T13:03:28.681Z"
   },
   {
    "duration": 80,
    "start_time": "2022-03-20T13:04:52.465Z"
   },
   {
    "duration": 14,
    "start_time": "2022-03-20T13:04:54.001Z"
   },
   {
    "duration": 9,
    "start_time": "2022-03-20T13:04:55.737Z"
   },
   {
    "duration": 191,
    "start_time": "2022-03-20T13:04:58.052Z"
   },
   {
    "duration": 4,
    "start_time": "2022-03-20T13:04:59.776Z"
   },
   {
    "duration": 12,
    "start_time": "2022-03-20T13:05:00.465Z"
   },
   {
    "duration": 264,
    "start_time": "2022-03-20T13:05:01.777Z"
   },
   {
    "duration": 261,
    "start_time": "2022-03-20T13:05:47.777Z"
   },
   {
    "duration": 160,
    "start_time": "2022-03-20T13:06:15.803Z"
   },
   {
    "duration": 1159,
    "start_time": "2022-03-20T13:08:28.520Z"
   },
   {
    "duration": 54,
    "start_time": "2022-03-20T13:08:29.681Z"
   },
   {
    "duration": 17,
    "start_time": "2022-03-20T13:08:29.738Z"
   },
   {
    "duration": 14,
    "start_time": "2022-03-20T13:08:29.757Z"
   },
   {
    "duration": 15,
    "start_time": "2022-03-20T13:08:29.773Z"
   },
   {
    "duration": 18,
    "start_time": "2022-03-20T13:08:29.790Z"
   },
   {
    "duration": 33,
    "start_time": "2022-03-20T13:08:29.810Z"
   },
   {
    "duration": 13,
    "start_time": "2022-03-20T13:08:29.844Z"
   },
   {
    "duration": 31,
    "start_time": "2022-03-20T13:08:29.859Z"
   },
   {
    "duration": 351,
    "start_time": "2022-03-20T13:08:29.893Z"
   },
   {
    "duration": 78952,
    "start_time": "2022-03-20T13:08:30.246Z"
   },
   {
    "duration": 53,
    "start_time": "2022-03-20T13:09:49.199Z"
   },
   {
    "duration": 102,
    "start_time": "2022-03-20T13:09:49.338Z"
   },
   {
    "duration": 20,
    "start_time": "2022-03-20T13:09:49.445Z"
   },
   {
    "duration": 183,
    "start_time": "2022-03-20T13:09:49.466Z"
   },
   {
    "duration": 90,
    "start_time": "2022-03-20T13:09:49.652Z"
   },
   {
    "duration": 28,
    "start_time": "2022-03-20T13:09:49.749Z"
   },
   {
    "duration": 262,
    "start_time": "2022-03-20T13:09:49.779Z"
   },
   {
    "duration": 10,
    "start_time": "2022-03-20T13:09:50.046Z"
   },
   {
    "duration": 121,
    "start_time": "2022-03-20T13:09:50.059Z"
   },
   {
    "duration": 88,
    "start_time": "2022-03-20T13:09:50.182Z"
   },
   {
    "duration": 24,
    "start_time": "2022-03-20T13:09:50.337Z"
   },
   {
    "duration": 200,
    "start_time": "2022-03-20T13:09:50.438Z"
   },
   {
    "duration": 55082,
    "start_time": "2022-03-20T13:09:50.640Z"
   },
   {
    "duration": 70,
    "start_time": "2022-03-20T13:10:45.724Z"
   },
   {
    "duration": 65,
    "start_time": "2022-03-20T13:12:42.537Z"
   },
   {
    "duration": 63,
    "start_time": "2022-03-20T13:12:48.867Z"
   },
   {
    "duration": 5,
    "start_time": "2022-03-20T13:12:49.993Z"
   },
   {
    "duration": 60,
    "start_time": "2022-03-20T13:12:51.767Z"
   },
   {
    "duration": 4,
    "start_time": "2022-03-20T13:12:57.112Z"
   },
   {
    "duration": 12,
    "start_time": "2022-03-20T13:13:00.657Z"
   },
   {
    "duration": 186,
    "start_time": "2022-03-20T13:13:03.051Z"
   },
   {
    "duration": 5,
    "start_time": "2022-03-20T13:13:37.800Z"
   },
   {
    "duration": 11,
    "start_time": "2022-03-20T13:13:41.376Z"
   },
   {
    "duration": 161,
    "start_time": "2022-03-20T13:13:49.480Z"
   },
   {
    "duration": 107,
    "start_time": "2022-03-20T13:15:01.033Z"
   },
   {
    "duration": 161,
    "start_time": "2022-03-20T13:15:06.880Z"
   },
   {
    "duration": 108,
    "start_time": "2022-03-20T13:15:10.031Z"
   },
   {
    "duration": 1134,
    "start_time": "2022-03-20T13:16:07.373Z"
   },
   {
    "duration": 57,
    "start_time": "2022-03-20T13:16:08.509Z"
   },
   {
    "duration": 13,
    "start_time": "2022-03-20T13:16:08.567Z"
   },
   {
    "duration": 6,
    "start_time": "2022-03-20T13:16:08.645Z"
   },
   {
    "duration": 17,
    "start_time": "2022-03-20T13:16:10.325Z"
   },
   {
    "duration": 36,
    "start_time": "2022-03-20T13:16:13.524Z"
   },
   {
    "duration": 16,
    "start_time": "2022-03-20T13:16:15.732Z"
   },
   {
    "duration": 31,
    "start_time": "2022-03-20T13:16:16.188Z"
   },
   {
    "duration": 325,
    "start_time": "2022-03-20T13:16:28.651Z"
   },
   {
    "duration": 82084,
    "start_time": "2022-03-20T13:16:33.094Z"
   },
   {
    "duration": 82227,
    "start_time": "2022-03-20T13:18:07.968Z"
   },
   {
    "duration": 57,
    "start_time": "2022-03-20T13:19:41.588Z"
   },
   {
    "duration": 16,
    "start_time": "2022-03-20T13:19:48.491Z"
   },
   {
    "duration": 10,
    "start_time": "2022-03-20T13:19:55.980Z"
   },
   {
    "duration": 154,
    "start_time": "2022-03-20T13:19:58.771Z"
   },
   {
    "duration": 4,
    "start_time": "2022-03-20T13:20:01.716Z"
   },
   {
    "duration": 14,
    "start_time": "2022-03-20T13:20:04.909Z"
   },
   {
    "duration": 285,
    "start_time": "2022-03-20T13:20:06.460Z"
   },
   {
    "duration": 185,
    "start_time": "2022-03-20T13:20:21.757Z"
   },
   {
    "duration": 147,
    "start_time": "2022-03-20T13:20:49.316Z"
   },
   {
    "duration": 188,
    "start_time": "2022-03-20T13:20:53.555Z"
   },
   {
    "duration": 150,
    "start_time": "2022-03-20T13:20:57.109Z"
   },
   {
    "duration": 133,
    "start_time": "2022-03-20T13:21:00.132Z"
   },
   {
    "duration": 173,
    "start_time": "2022-03-20T13:21:30.268Z"
   },
   {
    "duration": 137,
    "start_time": "2022-03-20T13:21:33.419Z"
   },
   {
    "duration": 187,
    "start_time": "2022-03-20T13:21:38.556Z"
   },
   {
    "duration": 141,
    "start_time": "2022-03-20T13:21:43.507Z"
   },
   {
    "duration": 12,
    "start_time": "2022-03-20T13:21:58.051Z"
   },
   {
    "duration": 232,
    "start_time": "2022-03-20T13:21:59.516Z"
   },
   {
    "duration": 174,
    "start_time": "2022-03-20T13:22:05.371Z"
   },
   {
    "duration": 168,
    "start_time": "2022-03-20T13:22:08.571Z"
   },
   {
    "duration": 428,
    "start_time": "2022-03-20T13:24:00.927Z"
   },
   {
    "duration": 232,
    "start_time": "2022-03-20T13:24:05.316Z"
   },
   {
    "duration": 571,
    "start_time": "2022-03-20T13:24:11.294Z"
   },
   {
    "duration": 1153,
    "start_time": "2022-03-20T13:25:15.730Z"
   },
   {
    "duration": 62,
    "start_time": "2022-03-20T13:25:17.410Z"
   },
   {
    "duration": 14,
    "start_time": "2022-03-20T13:25:18.018Z"
   },
   {
    "duration": 5,
    "start_time": "2022-03-20T13:25:18.685Z"
   },
   {
    "duration": 16,
    "start_time": "2022-03-20T13:25:19.639Z"
   },
   {
    "duration": 27,
    "start_time": "2022-03-20T13:25:20.587Z"
   },
   {
    "duration": 11,
    "start_time": "2022-03-20T13:25:21.051Z"
   },
   {
    "duration": 25,
    "start_time": "2022-03-20T13:25:21.489Z"
   },
   {
    "duration": 99,
    "start_time": "2022-03-20T13:25:31.868Z"
   },
   {
    "duration": 15,
    "start_time": "2022-03-20T13:25:36.778Z"
   },
   {
    "duration": 308,
    "start_time": "2022-03-20T13:25:56.290Z"
   },
   {
    "duration": 77614,
    "start_time": "2022-03-20T13:26:01.261Z"
   },
   {
    "duration": 109,
    "start_time": "2022-03-20T13:27:24.647Z"
   },
   {
    "duration": 15,
    "start_time": "2022-03-20T13:27:29.315Z"
   },
   {
    "duration": 9,
    "start_time": "2022-03-20T13:27:29.678Z"
   },
   {
    "duration": 146,
    "start_time": "2022-03-20T13:27:49.416Z"
   },
   {
    "duration": 5,
    "start_time": "2022-03-20T13:27:56.903Z"
   },
   {
    "duration": 13,
    "start_time": "2022-03-20T13:27:58.806Z"
   },
   {
    "duration": 219,
    "start_time": "2022-03-20T13:28:31.728Z"
   },
   {
    "duration": 15,
    "start_time": "2022-03-20T13:29:04.052Z"
   },
   {
    "duration": 4,
    "start_time": "2022-03-20T13:31:31.833Z"
   },
   {
    "duration": 12,
    "start_time": "2022-03-20T13:31:32.353Z"
   },
   {
    "duration": 194,
    "start_time": "2022-03-20T13:31:33.356Z"
   },
   {
    "duration": 4,
    "start_time": "2022-03-20T13:32:51.868Z"
   },
   {
    "duration": 45,
    "start_time": "2022-03-20T13:32:53.119Z"
   },
   {
    "duration": 1141,
    "start_time": "2022-03-20T13:34:29.326Z"
   },
   {
    "duration": 50,
    "start_time": "2022-03-20T13:34:30.544Z"
   },
   {
    "duration": 13,
    "start_time": "2022-03-20T13:34:31.302Z"
   },
   {
    "duration": 5,
    "start_time": "2022-03-20T13:34:32.051Z"
   },
   {
    "duration": 16,
    "start_time": "2022-03-20T13:34:34.434Z"
   },
   {
    "duration": 26,
    "start_time": "2022-03-20T13:34:36.673Z"
   },
   {
    "duration": 10,
    "start_time": "2022-03-20T13:34:37.605Z"
   },
   {
    "duration": 29,
    "start_time": "2022-03-20T13:34:38.930Z"
   },
   {
    "duration": 313,
    "start_time": "2022-03-20T13:35:37.882Z"
   },
   {
    "duration": 77370,
    "start_time": "2022-03-20T13:36:18.674Z"
   },
   {
    "duration": 37,
    "start_time": "2022-03-20T13:37:49.012Z"
   },
   {
    "duration": 17,
    "start_time": "2022-03-20T13:37:51.218Z"
   },
   {
    "duration": 8,
    "start_time": "2022-03-20T13:37:51.524Z"
   },
   {
    "duration": 153,
    "start_time": "2022-03-20T13:38:07.919Z"
   },
   {
    "duration": 4,
    "start_time": "2022-03-20T13:38:11.809Z"
   },
   {
    "duration": 12,
    "start_time": "2022-03-20T13:38:12.779Z"
   },
   {
    "duration": 262,
    "start_time": "2022-03-20T13:38:40.285Z"
   },
   {
    "duration": 219,
    "start_time": "2022-03-20T13:38:51.926Z"
   },
   {
    "duration": 215,
    "start_time": "2022-03-20T13:39:52.534Z"
   },
   {
    "duration": 5,
    "start_time": "2022-03-20T13:40:18.760Z"
   },
   {
    "duration": 10,
    "start_time": "2022-03-20T13:40:19.360Z"
   },
   {
    "duration": 123,
    "start_time": "2022-03-20T13:40:30.532Z"
   },
   {
    "duration": 90,
    "start_time": "2022-03-20T13:40:35.866Z"
   },
   {
    "duration": 17,
    "start_time": "2022-03-20T13:40:40.952Z"
   },
   {
    "duration": 165,
    "start_time": "2022-03-20T13:41:11.593Z"
   },
   {
    "duration": 57844,
    "start_time": "2022-03-20T13:41:21.312Z"
   },
   {
    "duration": 57790,
    "start_time": "2022-03-20T13:42:22.922Z"
   },
   {
    "duration": 575,
    "start_time": "2022-03-20T13:43:27.024Z"
   },
   {
    "duration": 1111,
    "start_time": "2022-03-20T13:43:36.882Z"
   },
   {
    "duration": 53,
    "start_time": "2022-03-20T13:43:37.995Z"
   },
   {
    "duration": 13,
    "start_time": "2022-03-20T13:43:38.053Z"
   },
   {
    "duration": 4,
    "start_time": "2022-03-20T13:43:38.067Z"
   },
   {
    "duration": 14,
    "start_time": "2022-03-20T13:43:38.073Z"
   },
   {
    "duration": 25,
    "start_time": "2022-03-20T13:43:38.088Z"
   },
   {
    "duration": 39,
    "start_time": "2022-03-20T13:43:38.115Z"
   },
   {
    "duration": 26,
    "start_time": "2022-03-20T13:43:38.155Z"
   },
   {
    "duration": 314,
    "start_time": "2022-03-20T13:43:38.182Z"
   },
   {
    "duration": 78447,
    "start_time": "2022-03-20T13:43:38.498Z"
   },
   {
    "duration": 106,
    "start_time": "2022-03-20T13:44:56.949Z"
   },
   {
    "duration": 88,
    "start_time": "2022-03-20T13:44:57.058Z"
   },
   {
    "duration": 14,
    "start_time": "2022-03-20T13:44:57.147Z"
   },
   {
    "duration": 164,
    "start_time": "2022-03-20T13:44:57.164Z"
   },
   {
    "duration": 11,
    "start_time": "2022-03-20T13:44:57.330Z"
   },
   {
    "duration": 27,
    "start_time": "2022-03-20T13:44:57.343Z"
   },
   {
    "duration": 270,
    "start_time": "2022-03-20T13:44:57.372Z"
   },
   {
    "duration": 8,
    "start_time": "2022-03-20T13:44:57.646Z"
   },
   {
    "duration": 114,
    "start_time": "2022-03-20T13:44:57.656Z"
   },
   {
    "duration": 92,
    "start_time": "2022-03-20T13:44:57.771Z"
   },
   {
    "duration": 189,
    "start_time": "2022-03-20T13:44:57.866Z"
   },
   {
    "duration": 186,
    "start_time": "2022-03-20T13:44:58.057Z"
   },
   {
    "duration": 58113,
    "start_time": "2022-03-20T13:44:58.244Z"
   },
   {
    "duration": 590,
    "start_time": "2022-03-20T13:45:56.359Z"
   },
   {
    "duration": 1536,
    "start_time": "2022-03-24T00:26:38.974Z"
   },
   {
    "duration": 72,
    "start_time": "2022-03-24T00:26:40.513Z"
   },
   {
    "duration": 20,
    "start_time": "2022-03-24T00:26:40.587Z"
   },
   {
    "duration": 6,
    "start_time": "2022-03-24T00:26:40.609Z"
   },
   {
    "duration": 18,
    "start_time": "2022-03-24T00:26:42.553Z"
   },
   {
    "duration": 38,
    "start_time": "2022-03-24T00:26:43.539Z"
   },
   {
    "duration": 14,
    "start_time": "2022-03-24T00:26:46.505Z"
   },
   {
    "duration": 38,
    "start_time": "2022-03-24T00:26:47.914Z"
   },
   {
    "duration": 25,
    "start_time": "2022-03-24T00:26:52.905Z"
   }
  ],
  "kernelspec": {
   "display_name": "Python 3 (ipykernel)",
   "language": "python",
   "name": "python3"
  },
  "language_info": {
   "codemirror_mode": {
    "name": "ipython",
    "version": 3
   },
   "file_extension": ".py",
   "mimetype": "text/x-python",
   "name": "python",
   "nbconvert_exporter": "python",
   "pygments_lexer": "ipython3",
   "version": "3.9.7"
  },
  "toc": {
   "base_numbering": 1,
   "nav_menu": {},
   "number_sections": true,
   "sideBar": true,
   "skip_h1_title": true,
   "title_cell": "Содержание",
   "title_sidebar": "Contents",
   "toc_cell": true,
   "toc_position": {
    "height": "calc(100% - 180px)",
    "left": "10px",
    "top": "150px",
    "width": "165px"
   },
   "toc_section_display": true,
   "toc_window_display": true
  }
 },
 "nbformat": 4,
 "nbformat_minor": 4
}
